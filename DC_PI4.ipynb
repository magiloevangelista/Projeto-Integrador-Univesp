{
  "nbformat": 4,
  "nbformat_minor": 0,
  "metadata": {
    "colab": {
      "provenance": [],
      "authorship_tag": "ABX9TyMFBX+acirxtM2T+sjWUgUy",
      "include_colab_link": true
    },
    "kernelspec": {
      "name": "python3",
      "display_name": "Python 3"
    },
    "language_info": {
      "name": "python"
    }
  },
  "cells": [
    {
      "cell_type": "markdown",
      "metadata": {
        "id": "view-in-github",
        "colab_type": "text"
      },
      "source": [
        "<a href=\"https://colab.research.google.com/github/magiloevangelista/Projeto-Integrador-Univesp/blob/main/DC_PI4.ipynb\" target=\"_parent\"><img src=\"https://colab.research.google.com/assets/colab-badge.svg\" alt=\"Open In Colab\"/></a>"
      ]
    },
    {
      "cell_type": "code",
      "execution_count": null,
      "metadata": {
        "colab": {
          "base_uri": "https://localhost:8080/",
          "height": 505
        },
        "id": "5WrrUxJe-bOr",
        "outputId": "70b2c92f-b977-418d-a446-8a54bfcf1ff7"
      },
      "outputs": [
        {
          "output_type": "execute_result",
          "data": {
            "text/plain": [
              "                    nome_munic  codigo_ibge  idade    cs_sexo  \\\n",
              "0                        Assis      3504008   69.0  MASCULINO   \n",
              "1                    São Paulo      3550308   60.0   FEMININO   \n",
              "2                   Araraquara      3503208   58.0  MASCULINO   \n",
              "3                    São Paulo      3550308   45.0   FEMININO   \n",
              "4                    São Paulo      3550308   42.0   FEMININO   \n",
              "...                        ...          ...    ...        ...   \n",
              "6472914  São Bernardo do Campo      3548708    1.0  MASCULINO   \n",
              "6472915        Itaquaquecetuba      3523107    9.0  MASCULINO   \n",
              "6472916               Campinas      3509502    0.0  MASCULINO   \n",
              "6472917              São Paulo      3550308   77.0   FEMININO   \n",
              "6472918            Santo André      3547809   35.0  MASCULINO   \n",
              "\n",
              "         data_inicio_sintomas  obito      asma cardiopatia  diabetes  \\\n",
              "0        2022-07-15T00:00:00Z      0  IGNORADO    IGNORADO  IGNORADO   \n",
              "1        2021-02-21T00:00:00Z      0  IGNORADO    IGNORADO  IGNORADO   \n",
              "2        2021-06-23T00:00:00Z      0  IGNORADO    IGNORADO  IGNORADO   \n",
              "3        2021-02-03T00:00:00Z      0  IGNORADO    IGNORADO  IGNORADO   \n",
              "4        2021-02-23T00:00:00Z      0  IGNORADO    IGNORADO  IGNORADO   \n",
              "...                       ...    ...       ...         ...       ...   \n",
              "6472914  2022-01-11T00:00:00Z      0  IGNORADO    IGNORADO  IGNORADO   \n",
              "6472915  2021-05-18T00:00:00Z      0  IGNORADO    IGNORADO  IGNORADO   \n",
              "6472916  2023-01-02T00:00:00Z      0  IGNORADO    IGNORADO  IGNORADO   \n",
              "6472917  2020-05-10T00:00:00Z      1       NÃO         SIM       SIM   \n",
              "6472918  2021-03-07T00:00:00Z      0  IGNORADO    IGNORADO  IGNORADO   \n",
              "\n",
              "        doenca_hematologica doenca_hepatica doenca_neurologica doenca_renal  \\\n",
              "0                  IGNORADO        IGNORADO           IGNORADO     IGNORADO   \n",
              "1                  IGNORADO        IGNORADO           IGNORADO     IGNORADO   \n",
              "2                  IGNORADO        IGNORADO           IGNORADO     IGNORADO   \n",
              "3                  IGNORADO        IGNORADO           IGNORADO     IGNORADO   \n",
              "4                  IGNORADO        IGNORADO           IGNORADO     IGNORADO   \n",
              "...                     ...             ...                ...          ...   \n",
              "6472914            IGNORADO        IGNORADO           IGNORADO     IGNORADO   \n",
              "6472915            IGNORADO        IGNORADO           IGNORADO     IGNORADO   \n",
              "6472916            IGNORADO        IGNORADO           IGNORADO     IGNORADO   \n",
              "6472917                 NÃO             NÃO                NÃO          NÃO   \n",
              "6472918            IGNORADO        IGNORADO           IGNORADO     IGNORADO   \n",
              "\n",
              "        imunodepressao obesidade outros_fatores_de_risco pneumopatia  \\\n",
              "0             IGNORADO  IGNORADO                IGNORADO    IGNORADO   \n",
              "1             IGNORADO  IGNORADO                IGNORADO    IGNORADO   \n",
              "2             IGNORADO  IGNORADO                IGNORADO    IGNORADO   \n",
              "3             IGNORADO  IGNORADO                IGNORADO    IGNORADO   \n",
              "4             IGNORADO  IGNORADO                IGNORADO    IGNORADO   \n",
              "...                ...       ...                     ...         ...   \n",
              "6472914       IGNORADO  IGNORADO                IGNORADO    IGNORADO   \n",
              "6472915       IGNORADO  IGNORADO                IGNORADO    IGNORADO   \n",
              "6472916       IGNORADO  IGNORADO                IGNORADO    IGNORADO   \n",
              "6472917            NÃO       NÃO                IGNORADO         NÃO   \n",
              "6472918       IGNORADO  IGNORADO                IGNORADO    IGNORADO   \n",
              "\n",
              "         puerpera sindrome_de_down diagnostico_covid19  \n",
              "0        IGNORADO         IGNORADO          CONFIRMADO  \n",
              "1        IGNORADO         IGNORADO          CONFIRMADO  \n",
              "2        IGNORADO         IGNORADO          CONFIRMADO  \n",
              "3        IGNORADO         IGNORADO          CONFIRMADO  \n",
              "4        IGNORADO         IGNORADO          CONFIRMADO  \n",
              "...           ...              ...                 ...  \n",
              "6472914  IGNORADO         IGNORADO          CONFIRMADO  \n",
              "6472915  IGNORADO         IGNORADO          CONFIRMADO  \n",
              "6472916  IGNORADO         IGNORADO          CONFIRMADO  \n",
              "6472917       NÃO              NÃO          CONFIRMADO  \n",
              "6472918  IGNORADO         IGNORADO          CONFIRMADO  \n",
              "\n",
              "[6472919 rows x 20 columns]"
            ],
            "text/html": [
              "\n",
              "  <div id=\"df-812caa99-d295-4ea0-956b-c66b28d39af8\">\n",
              "    <div class=\"colab-df-container\">\n",
              "      <div>\n",
              "<style scoped>\n",
              "    .dataframe tbody tr th:only-of-type {\n",
              "        vertical-align: middle;\n",
              "    }\n",
              "\n",
              "    .dataframe tbody tr th {\n",
              "        vertical-align: top;\n",
              "    }\n",
              "\n",
              "    .dataframe thead th {\n",
              "        text-align: right;\n",
              "    }\n",
              "</style>\n",
              "<table border=\"1\" class=\"dataframe\">\n",
              "  <thead>\n",
              "    <tr style=\"text-align: right;\">\n",
              "      <th></th>\n",
              "      <th>nome_munic</th>\n",
              "      <th>codigo_ibge</th>\n",
              "      <th>idade</th>\n",
              "      <th>cs_sexo</th>\n",
              "      <th>data_inicio_sintomas</th>\n",
              "      <th>obito</th>\n",
              "      <th>asma</th>\n",
              "      <th>cardiopatia</th>\n",
              "      <th>diabetes</th>\n",
              "      <th>doenca_hematologica</th>\n",
              "      <th>doenca_hepatica</th>\n",
              "      <th>doenca_neurologica</th>\n",
              "      <th>doenca_renal</th>\n",
              "      <th>imunodepressao</th>\n",
              "      <th>obesidade</th>\n",
              "      <th>outros_fatores_de_risco</th>\n",
              "      <th>pneumopatia</th>\n",
              "      <th>puerpera</th>\n",
              "      <th>sindrome_de_down</th>\n",
              "      <th>diagnostico_covid19</th>\n",
              "    </tr>\n",
              "  </thead>\n",
              "  <tbody>\n",
              "    <tr>\n",
              "      <th>0</th>\n",
              "      <td>Assis</td>\n",
              "      <td>3504008</td>\n",
              "      <td>69.0</td>\n",
              "      <td>MASCULINO</td>\n",
              "      <td>2022-07-15T00:00:00Z</td>\n",
              "      <td>0</td>\n",
              "      <td>IGNORADO</td>\n",
              "      <td>IGNORADO</td>\n",
              "      <td>IGNORADO</td>\n",
              "      <td>IGNORADO</td>\n",
              "      <td>IGNORADO</td>\n",
              "      <td>IGNORADO</td>\n",
              "      <td>IGNORADO</td>\n",
              "      <td>IGNORADO</td>\n",
              "      <td>IGNORADO</td>\n",
              "      <td>IGNORADO</td>\n",
              "      <td>IGNORADO</td>\n",
              "      <td>IGNORADO</td>\n",
              "      <td>IGNORADO</td>\n",
              "      <td>CONFIRMADO</td>\n",
              "    </tr>\n",
              "    <tr>\n",
              "      <th>1</th>\n",
              "      <td>São Paulo</td>\n",
              "      <td>3550308</td>\n",
              "      <td>60.0</td>\n",
              "      <td>FEMININO</td>\n",
              "      <td>2021-02-21T00:00:00Z</td>\n",
              "      <td>0</td>\n",
              "      <td>IGNORADO</td>\n",
              "      <td>IGNORADO</td>\n",
              "      <td>IGNORADO</td>\n",
              "      <td>IGNORADO</td>\n",
              "      <td>IGNORADO</td>\n",
              "      <td>IGNORADO</td>\n",
              "      <td>IGNORADO</td>\n",
              "      <td>IGNORADO</td>\n",
              "      <td>IGNORADO</td>\n",
              "      <td>IGNORADO</td>\n",
              "      <td>IGNORADO</td>\n",
              "      <td>IGNORADO</td>\n",
              "      <td>IGNORADO</td>\n",
              "      <td>CONFIRMADO</td>\n",
              "    </tr>\n",
              "    <tr>\n",
              "      <th>2</th>\n",
              "      <td>Araraquara</td>\n",
              "      <td>3503208</td>\n",
              "      <td>58.0</td>\n",
              "      <td>MASCULINO</td>\n",
              "      <td>2021-06-23T00:00:00Z</td>\n",
              "      <td>0</td>\n",
              "      <td>IGNORADO</td>\n",
              "      <td>IGNORADO</td>\n",
              "      <td>IGNORADO</td>\n",
              "      <td>IGNORADO</td>\n",
              "      <td>IGNORADO</td>\n",
              "      <td>IGNORADO</td>\n",
              "      <td>IGNORADO</td>\n",
              "      <td>IGNORADO</td>\n",
              "      <td>IGNORADO</td>\n",
              "      <td>IGNORADO</td>\n",
              "      <td>IGNORADO</td>\n",
              "      <td>IGNORADO</td>\n",
              "      <td>IGNORADO</td>\n",
              "      <td>CONFIRMADO</td>\n",
              "    </tr>\n",
              "    <tr>\n",
              "      <th>3</th>\n",
              "      <td>São Paulo</td>\n",
              "      <td>3550308</td>\n",
              "      <td>45.0</td>\n",
              "      <td>FEMININO</td>\n",
              "      <td>2021-02-03T00:00:00Z</td>\n",
              "      <td>0</td>\n",
              "      <td>IGNORADO</td>\n",
              "      <td>IGNORADO</td>\n",
              "      <td>IGNORADO</td>\n",
              "      <td>IGNORADO</td>\n",
              "      <td>IGNORADO</td>\n",
              "      <td>IGNORADO</td>\n",
              "      <td>IGNORADO</td>\n",
              "      <td>IGNORADO</td>\n",
              "      <td>IGNORADO</td>\n",
              "      <td>IGNORADO</td>\n",
              "      <td>IGNORADO</td>\n",
              "      <td>IGNORADO</td>\n",
              "      <td>IGNORADO</td>\n",
              "      <td>CONFIRMADO</td>\n",
              "    </tr>\n",
              "    <tr>\n",
              "      <th>4</th>\n",
              "      <td>São Paulo</td>\n",
              "      <td>3550308</td>\n",
              "      <td>42.0</td>\n",
              "      <td>FEMININO</td>\n",
              "      <td>2021-02-23T00:00:00Z</td>\n",
              "      <td>0</td>\n",
              "      <td>IGNORADO</td>\n",
              "      <td>IGNORADO</td>\n",
              "      <td>IGNORADO</td>\n",
              "      <td>IGNORADO</td>\n",
              "      <td>IGNORADO</td>\n",
              "      <td>IGNORADO</td>\n",
              "      <td>IGNORADO</td>\n",
              "      <td>IGNORADO</td>\n",
              "      <td>IGNORADO</td>\n",
              "      <td>IGNORADO</td>\n",
              "      <td>IGNORADO</td>\n",
              "      <td>IGNORADO</td>\n",
              "      <td>IGNORADO</td>\n",
              "      <td>CONFIRMADO</td>\n",
              "    </tr>\n",
              "    <tr>\n",
              "      <th>...</th>\n",
              "      <td>...</td>\n",
              "      <td>...</td>\n",
              "      <td>...</td>\n",
              "      <td>...</td>\n",
              "      <td>...</td>\n",
              "      <td>...</td>\n",
              "      <td>...</td>\n",
              "      <td>...</td>\n",
              "      <td>...</td>\n",
              "      <td>...</td>\n",
              "      <td>...</td>\n",
              "      <td>...</td>\n",
              "      <td>...</td>\n",
              "      <td>...</td>\n",
              "      <td>...</td>\n",
              "      <td>...</td>\n",
              "      <td>...</td>\n",
              "      <td>...</td>\n",
              "      <td>...</td>\n",
              "      <td>...</td>\n",
              "    </tr>\n",
              "    <tr>\n",
              "      <th>6472914</th>\n",
              "      <td>São Bernardo do Campo</td>\n",
              "      <td>3548708</td>\n",
              "      <td>1.0</td>\n",
              "      <td>MASCULINO</td>\n",
              "      <td>2022-01-11T00:00:00Z</td>\n",
              "      <td>0</td>\n",
              "      <td>IGNORADO</td>\n",
              "      <td>IGNORADO</td>\n",
              "      <td>IGNORADO</td>\n",
              "      <td>IGNORADO</td>\n",
              "      <td>IGNORADO</td>\n",
              "      <td>IGNORADO</td>\n",
              "      <td>IGNORADO</td>\n",
              "      <td>IGNORADO</td>\n",
              "      <td>IGNORADO</td>\n",
              "      <td>IGNORADO</td>\n",
              "      <td>IGNORADO</td>\n",
              "      <td>IGNORADO</td>\n",
              "      <td>IGNORADO</td>\n",
              "      <td>CONFIRMADO</td>\n",
              "    </tr>\n",
              "    <tr>\n",
              "      <th>6472915</th>\n",
              "      <td>Itaquaquecetuba</td>\n",
              "      <td>3523107</td>\n",
              "      <td>9.0</td>\n",
              "      <td>MASCULINO</td>\n",
              "      <td>2021-05-18T00:00:00Z</td>\n",
              "      <td>0</td>\n",
              "      <td>IGNORADO</td>\n",
              "      <td>IGNORADO</td>\n",
              "      <td>IGNORADO</td>\n",
              "      <td>IGNORADO</td>\n",
              "      <td>IGNORADO</td>\n",
              "      <td>IGNORADO</td>\n",
              "      <td>IGNORADO</td>\n",
              "      <td>IGNORADO</td>\n",
              "      <td>IGNORADO</td>\n",
              "      <td>IGNORADO</td>\n",
              "      <td>IGNORADO</td>\n",
              "      <td>IGNORADO</td>\n",
              "      <td>IGNORADO</td>\n",
              "      <td>CONFIRMADO</td>\n",
              "    </tr>\n",
              "    <tr>\n",
              "      <th>6472916</th>\n",
              "      <td>Campinas</td>\n",
              "      <td>3509502</td>\n",
              "      <td>0.0</td>\n",
              "      <td>MASCULINO</td>\n",
              "      <td>2023-01-02T00:00:00Z</td>\n",
              "      <td>0</td>\n",
              "      <td>IGNORADO</td>\n",
              "      <td>IGNORADO</td>\n",
              "      <td>IGNORADO</td>\n",
              "      <td>IGNORADO</td>\n",
              "      <td>IGNORADO</td>\n",
              "      <td>IGNORADO</td>\n",
              "      <td>IGNORADO</td>\n",
              "      <td>IGNORADO</td>\n",
              "      <td>IGNORADO</td>\n",
              "      <td>IGNORADO</td>\n",
              "      <td>IGNORADO</td>\n",
              "      <td>IGNORADO</td>\n",
              "      <td>IGNORADO</td>\n",
              "      <td>CONFIRMADO</td>\n",
              "    </tr>\n",
              "    <tr>\n",
              "      <th>6472917</th>\n",
              "      <td>São Paulo</td>\n",
              "      <td>3550308</td>\n",
              "      <td>77.0</td>\n",
              "      <td>FEMININO</td>\n",
              "      <td>2020-05-10T00:00:00Z</td>\n",
              "      <td>1</td>\n",
              "      <td>NÃO</td>\n",
              "      <td>SIM</td>\n",
              "      <td>SIM</td>\n",
              "      <td>NÃO</td>\n",
              "      <td>NÃO</td>\n",
              "      <td>NÃO</td>\n",
              "      <td>NÃO</td>\n",
              "      <td>NÃO</td>\n",
              "      <td>NÃO</td>\n",
              "      <td>IGNORADO</td>\n",
              "      <td>NÃO</td>\n",
              "      <td>NÃO</td>\n",
              "      <td>NÃO</td>\n",
              "      <td>CONFIRMADO</td>\n",
              "    </tr>\n",
              "    <tr>\n",
              "      <th>6472918</th>\n",
              "      <td>Santo André</td>\n",
              "      <td>3547809</td>\n",
              "      <td>35.0</td>\n",
              "      <td>MASCULINO</td>\n",
              "      <td>2021-03-07T00:00:00Z</td>\n",
              "      <td>0</td>\n",
              "      <td>IGNORADO</td>\n",
              "      <td>IGNORADO</td>\n",
              "      <td>IGNORADO</td>\n",
              "      <td>IGNORADO</td>\n",
              "      <td>IGNORADO</td>\n",
              "      <td>IGNORADO</td>\n",
              "      <td>IGNORADO</td>\n",
              "      <td>IGNORADO</td>\n",
              "      <td>IGNORADO</td>\n",
              "      <td>IGNORADO</td>\n",
              "      <td>IGNORADO</td>\n",
              "      <td>IGNORADO</td>\n",
              "      <td>IGNORADO</td>\n",
              "      <td>CONFIRMADO</td>\n",
              "    </tr>\n",
              "  </tbody>\n",
              "</table>\n",
              "<p>6472919 rows × 20 columns</p>\n",
              "</div>\n",
              "      <button class=\"colab-df-convert\" onclick=\"convertToInteractive('df-812caa99-d295-4ea0-956b-c66b28d39af8')\"\n",
              "              title=\"Convert this dataframe to an interactive table.\"\n",
              "              style=\"display:none;\">\n",
              "        \n",
              "  <svg xmlns=\"http://www.w3.org/2000/svg\" height=\"24px\"viewBox=\"0 0 24 24\"\n",
              "       width=\"24px\">\n",
              "    <path d=\"M0 0h24v24H0V0z\" fill=\"none\"/>\n",
              "    <path d=\"M18.56 5.44l.94 2.06.94-2.06 2.06-.94-2.06-.94-.94-2.06-.94 2.06-2.06.94zm-11 1L8.5 8.5l.94-2.06 2.06-.94-2.06-.94L8.5 2.5l-.94 2.06-2.06.94zm10 10l.94 2.06.94-2.06 2.06-.94-2.06-.94-.94-2.06-.94 2.06-2.06.94z\"/><path d=\"M17.41 7.96l-1.37-1.37c-.4-.4-.92-.59-1.43-.59-.52 0-1.04.2-1.43.59L10.3 9.45l-7.72 7.72c-.78.78-.78 2.05 0 2.83L4 21.41c.39.39.9.59 1.41.59.51 0 1.02-.2 1.41-.59l7.78-7.78 2.81-2.81c.8-.78.8-2.07 0-2.86zM5.41 20L4 18.59l7.72-7.72 1.47 1.35L5.41 20z\"/>\n",
              "  </svg>\n",
              "      </button>\n",
              "      \n",
              "  <style>\n",
              "    .colab-df-container {\n",
              "      display:flex;\n",
              "      flex-wrap:wrap;\n",
              "      gap: 12px;\n",
              "    }\n",
              "\n",
              "    .colab-df-convert {\n",
              "      background-color: #E8F0FE;\n",
              "      border: none;\n",
              "      border-radius: 50%;\n",
              "      cursor: pointer;\n",
              "      display: none;\n",
              "      fill: #1967D2;\n",
              "      height: 32px;\n",
              "      padding: 0 0 0 0;\n",
              "      width: 32px;\n",
              "    }\n",
              "\n",
              "    .colab-df-convert:hover {\n",
              "      background-color: #E2EBFA;\n",
              "      box-shadow: 0px 1px 2px rgba(60, 64, 67, 0.3), 0px 1px 3px 1px rgba(60, 64, 67, 0.15);\n",
              "      fill: #174EA6;\n",
              "    }\n",
              "\n",
              "    [theme=dark] .colab-df-convert {\n",
              "      background-color: #3B4455;\n",
              "      fill: #D2E3FC;\n",
              "    }\n",
              "\n",
              "    [theme=dark] .colab-df-convert:hover {\n",
              "      background-color: #434B5C;\n",
              "      box-shadow: 0px 1px 3px 1px rgba(0, 0, 0, 0.15);\n",
              "      filter: drop-shadow(0px 1px 2px rgba(0, 0, 0, 0.3));\n",
              "      fill: #FFFFFF;\n",
              "    }\n",
              "  </style>\n",
              "\n",
              "      <script>\n",
              "        const buttonEl =\n",
              "          document.querySelector('#df-812caa99-d295-4ea0-956b-c66b28d39af8 button.colab-df-convert');\n",
              "        buttonEl.style.display =\n",
              "          google.colab.kernel.accessAllowed ? 'block' : 'none';\n",
              "\n",
              "        async function convertToInteractive(key) {\n",
              "          const element = document.querySelector('#df-812caa99-d295-4ea0-956b-c66b28d39af8');\n",
              "          const dataTable =\n",
              "            await google.colab.kernel.invokeFunction('convertToInteractive',\n",
              "                                                     [key], {});\n",
              "          if (!dataTable) return;\n",
              "\n",
              "          const docLinkHtml = 'Like what you see? Visit the ' +\n",
              "            '<a target=\"_blank\" href=https://colab.research.google.com/notebooks/data_table.ipynb>data table notebook</a>'\n",
              "            + ' to learn more about interactive tables.';\n",
              "          element.innerHTML = '';\n",
              "          dataTable['output_type'] = 'display_data';\n",
              "          await google.colab.output.renderOutput(dataTable, element);\n",
              "          const docLink = document.createElement('div');\n",
              "          docLink.innerHTML = docLinkHtml;\n",
              "          element.appendChild(docLink);\n",
              "        }\n",
              "      </script>\n",
              "    </div>\n",
              "  </div>\n",
              "  "
            ]
          },
          "metadata": {},
          "execution_count": 134
        }
      ],
      "source": [
        "import pandas as pd\n",
        "pd.read_csv('/content/casos_obitos_doencas_preexistentes.csv.zip', delimiter=';')\n",
        "\n",
        "df = pd.read_csv('/content/casos_obitos_doencas_preexistentes.csv.zip', delimiter=';')\n",
        "df\n",
        "#importação do arquivo com os dados"
      ]
    },
    {
      "cell_type": "markdown",
      "source": [
        "Total de linhas: 6472919\n",
        "\n",
        "Total de colunas: 20\n",
        "\n",
        "OBS: todos os casos nesta base de dados foram confirmados e não existe valor NAN.\n",
        "\n",
        "BASE DE DADOS EXTRAÍDA DA SEGUINTE FONTE : https://www.seade.gov.br/coronavirus/"
      ],
      "metadata": {
        "id": "8rbF2NB3Cd8s"
      }
    },
    {
      "cell_type": "code",
      "source": [
        "casos_covid = df\n",
        "# casos_covid agora é o nome da base de dados"
      ],
      "metadata": {
        "id": "UUXN8151BPct"
      },
      "execution_count": null,
      "outputs": []
    },
    {
      "cell_type": "code",
      "source": [
        "casos_covid.loc[casos_covid['nome_munic']=='Dois Córregos']\n",
        "dados_covid_dc = casos_covid.loc[casos_covid['nome_munic']=='Dois Córregos']\n",
        "# casos_covid_dc agora recebe base de dados, que corresponde a cidade"
      ],
      "metadata": {
        "id": "CAHhBzKSBTgJ"
      },
      "execution_count": null,
      "outputs": []
    },
    {
      "cell_type": "code",
      "source": [
        "dados_covid_dc['obito'].value_counts()\n"
      ],
      "metadata": {
        "colab": {
          "base_uri": "https://localhost:8080/"
        },
        "id": "-xPxIqjfN_Q8",
        "outputId": "e1e55195-4f29-433c-a7b7-54161a4bdaa9"
      },
      "execution_count": null,
      "outputs": [
        {
          "output_type": "execute_result",
          "data": {
            "text/plain": [
              "0    2043\n",
              "1      46\n",
              "Name: obito, dtype: int64"
            ]
          },
          "metadata": {},
          "execution_count": 137
        }
      ]
    },
    {
      "cell_type": "code",
      "source": [
        "dados_covid_dc['asma'].value_counts()\n"
      ],
      "metadata": {
        "colab": {
          "base_uri": "https://localhost:8080/"
        },
        "id": "UnVE1u8fTz3R",
        "outputId": "5d1c0e14-8344-4dba-8b24-a26d528aac1e"
      },
      "execution_count": null,
      "outputs": [
        {
          "output_type": "execute_result",
          "data": {
            "text/plain": [
              "IGNORADO    2030\n",
              "NÃO           56\n",
              "SIM            3\n",
              "Name: asma, dtype: int64"
            ]
          },
          "metadata": {},
          "execution_count": 138
        }
      ]
    },
    {
      "cell_type": "code",
      "source": [
        "dados_covid_dc['cs_sexo'].value_counts()"
      ],
      "metadata": {
        "colab": {
          "base_uri": "https://localhost:8080/"
        },
        "id": "SfanyYTgT0hW",
        "outputId": "5d620233-b78c-4d75-db6c-e3362e37d21d"
      },
      "execution_count": null,
      "outputs": [
        {
          "output_type": "execute_result",
          "data": {
            "text/plain": [
              "FEMININO     1068\n",
              "MASCULINO    1021\n",
              "Name: cs_sexo, dtype: int64"
            ]
          },
          "metadata": {},
          "execution_count": 139
        }
      ]
    },
    {
      "cell_type": "code",
      "source": [
        "dados_covid_dc['diabetes'].value_counts()"
      ],
      "metadata": {
        "colab": {
          "base_uri": "https://localhost:8080/"
        },
        "id": "EErOrt2WT03w",
        "outputId": "ea299f82-e55d-40b9-8a47-6683079ec419"
      },
      "execution_count": null,
      "outputs": [
        {
          "output_type": "execute_result",
          "data": {
            "text/plain": [
              "IGNORADO    2007\n",
              "SIM           50\n",
              "NÃO           32\n",
              "Name: diabetes, dtype: int64"
            ]
          },
          "metadata": {},
          "execution_count": 140
        }
      ]
    },
    {
      "cell_type": "code",
      "source": [
        "dados_covid_dc['cardiopatia'].value_counts()"
      ],
      "metadata": {
        "colab": {
          "base_uri": "https://localhost:8080/"
        },
        "id": "571-0tkuT1Cu",
        "outputId": "66ccf0fb-dfaa-45e6-861c-da32bbb8d1ba"
      },
      "execution_count": null,
      "outputs": [
        {
          "output_type": "execute_result",
          "data": {
            "text/plain": [
              "IGNORADO    2010\n",
              "SIM           52\n",
              "NÃO           27\n",
              "Name: cardiopatia, dtype: int64"
            ]
          },
          "metadata": {},
          "execution_count": 141
        }
      ]
    },
    {
      "cell_type": "code",
      "source": [
        "dados_covid_dc['doenca_hematologica'].value_counts()"
      ],
      "metadata": {
        "colab": {
          "base_uri": "https://localhost:8080/"
        },
        "id": "KCxAqi6jT1TN",
        "outputId": "1c566f7c-e5b9-4a7b-8038-1d43ae2eeba0"
      },
      "execution_count": null,
      "outputs": [
        {
          "output_type": "execute_result",
          "data": {
            "text/plain": [
              "IGNORADO    2030\n",
              "NÃO           57\n",
              "SIM            2\n",
              "Name: doenca_hematologica, dtype: int64"
            ]
          },
          "metadata": {},
          "execution_count": 142
        }
      ]
    },
    {
      "cell_type": "code",
      "source": [
        "dados_covid_dc['doenca_hepatica'].value_counts()"
      ],
      "metadata": {
        "colab": {
          "base_uri": "https://localhost:8080/"
        },
        "id": "RZotxTXLT1d0",
        "outputId": "29b19dd2-da15-4e13-d7d8-826c3f95b4b4"
      },
      "execution_count": null,
      "outputs": [
        {
          "output_type": "execute_result",
          "data": {
            "text/plain": [
              "IGNORADO    2029\n",
              "NÃO           60\n",
              "Name: doenca_hepatica, dtype: int64"
            ]
          },
          "metadata": {},
          "execution_count": 143
        }
      ]
    },
    {
      "cell_type": "code",
      "source": [
        "dados_covid_dc['doenca_neurologica'].value_counts()"
      ],
      "metadata": {
        "colab": {
          "base_uri": "https://localhost:8080/"
        },
        "id": "mb9ZNn5hT1qX",
        "outputId": "0e50bc35-17f9-4bf9-9d55-8d8243b95509"
      },
      "execution_count": null,
      "outputs": [
        {
          "output_type": "execute_result",
          "data": {
            "text/plain": [
              "IGNORADO    2029\n",
              "NÃO           53\n",
              "SIM            7\n",
              "Name: doenca_neurologica, dtype: int64"
            ]
          },
          "metadata": {},
          "execution_count": 144
        }
      ]
    },
    {
      "cell_type": "code",
      "source": [
        "dados_covid_dc['doenca_renal'].value_counts()"
      ],
      "metadata": {
        "colab": {
          "base_uri": "https://localhost:8080/"
        },
        "id": "KDLvnW8nT17-",
        "outputId": "e528aa9e-3f60-47fc-8af7-fda8bf4ac52e"
      },
      "execution_count": null,
      "outputs": [
        {
          "output_type": "execute_result",
          "data": {
            "text/plain": [
              "IGNORADO    2025\n",
              "NÃO           58\n",
              "SIM            6\n",
              "Name: doenca_renal, dtype: int64"
            ]
          },
          "metadata": {},
          "execution_count": 145
        }
      ]
    },
    {
      "cell_type": "code",
      "source": [
        "dados_covid_dc['imunodepressao'].value_counts()"
      ],
      "metadata": {
        "colab": {
          "base_uri": "https://localhost:8080/"
        },
        "id": "lo4ts4WjUc_r",
        "outputId": "3d722198-764a-44ab-a00d-7af89f4792a2"
      },
      "execution_count": null,
      "outputs": [
        {
          "output_type": "execute_result",
          "data": {
            "text/plain": [
              "IGNORADO    2021\n",
              "NÃO           56\n",
              "SIM           12\n",
              "Name: imunodepressao, dtype: int64"
            ]
          },
          "metadata": {},
          "execution_count": 146
        }
      ]
    },
    {
      "cell_type": "code",
      "source": [
        "dados_covid_dc['obesidade'].value_counts()"
      ],
      "metadata": {
        "colab": {
          "base_uri": "https://localhost:8080/"
        },
        "id": "LAhih4tCUdgM",
        "outputId": "2bc59b99-d6a8-4bb6-98ee-efd86b595481"
      },
      "execution_count": null,
      "outputs": [
        {
          "output_type": "execute_result",
          "data": {
            "text/plain": [
              "IGNORADO    2026\n",
              "NÃO           50\n",
              "SIM           13\n",
              "Name: obesidade, dtype: int64"
            ]
          },
          "metadata": {},
          "execution_count": 147
        }
      ]
    },
    {
      "cell_type": "code",
      "source": [
        "dados_covid_dc['outros_fatores_de_risco'].value_counts()"
      ],
      "metadata": {
        "colab": {
          "base_uri": "https://localhost:8080/"
        },
        "id": "DAuT6WEkUd7H",
        "outputId": "ab38960e-4ad1-4b3f-eea5-29cd0a896f2c"
      },
      "execution_count": null,
      "outputs": [
        {
          "output_type": "execute_result",
          "data": {
            "text/plain": [
              "IGNORADO    2029\n",
              "NÃO           41\n",
              "SIM           19\n",
              "Name: outros_fatores_de_risco, dtype: int64"
            ]
          },
          "metadata": {},
          "execution_count": 148
        }
      ]
    },
    {
      "cell_type": "code",
      "source": [
        "dados_covid_dc['pneumopatia'].value_counts()"
      ],
      "metadata": {
        "colab": {
          "base_uri": "https://localhost:8080/"
        },
        "id": "IPnSaJroUeS-",
        "outputId": "71192fa4-36d8-4564-e7b3-d50f33c94507"
      },
      "execution_count": null,
      "outputs": [
        {
          "output_type": "execute_result",
          "data": {
            "text/plain": [
              "IGNORADO    2029\n",
              "NÃO           55\n",
              "SIM            5\n",
              "Name: pneumopatia, dtype: int64"
            ]
          },
          "metadata": {},
          "execution_count": 149
        }
      ]
    },
    {
      "cell_type": "code",
      "source": [
        "dados_covid_dc['puerpera'].value_counts()"
      ],
      "metadata": {
        "colab": {
          "base_uri": "https://localhost:8080/"
        },
        "id": "z6Ve9O_ZUvQB",
        "outputId": "61e8d19d-faf2-4ef0-9503-defdc605ae4f"
      },
      "execution_count": null,
      "outputs": [
        {
          "output_type": "execute_result",
          "data": {
            "text/plain": [
              "IGNORADO    2030\n",
              "NÃO           58\n",
              "SIM            1\n",
              "Name: puerpera, dtype: int64"
            ]
          },
          "metadata": {},
          "execution_count": 150
        }
      ]
    },
    {
      "cell_type": "code",
      "source": [
        "dados_covid_dc['sindrome_de_down'].value_counts()"
      ],
      "metadata": {
        "colab": {
          "base_uri": "https://localhost:8080/"
        },
        "id": "PhwqUxRsUvrf",
        "outputId": "bfd7ee4c-e110-4db9-b516-985f7ad9f325"
      },
      "execution_count": null,
      "outputs": [
        {
          "output_type": "execute_result",
          "data": {
            "text/plain": [
              "IGNORADO    2029\n",
              "NÃO           60\n",
              "Name: sindrome_de_down, dtype: int64"
            ]
          },
          "metadata": {},
          "execution_count": 151
        }
      ]
    },
    {
      "cell_type": "code",
      "source": [
        "dados_covid_dc['diagnostico_covid19'].value_counts()"
      ],
      "metadata": {
        "colab": {
          "base_uri": "https://localhost:8080/"
        },
        "id": "MOY7ar0eU0SJ",
        "outputId": "2bc72d0c-7ca9-43ef-ba5d-62aa47f89aaf"
      },
      "execution_count": null,
      "outputs": [
        {
          "output_type": "execute_result",
          "data": {
            "text/plain": [
              "CONFIRMADO    2089\n",
              "Name: diagnostico_covid19, dtype: int64"
            ]
          },
          "metadata": {},
          "execution_count": 152
        }
      ]
    },
    {
      "cell_type": "code",
      "source": [
        "dados_covid_dc['asma'].head(10)"
      ],
      "metadata": {
        "colab": {
          "base_uri": "https://localhost:8080/"
        },
        "id": "n8ebKPOFU6Uw",
        "outputId": "ff9c5c56-ec55-4672-b8a4-bb3d23715cc1"
      },
      "execution_count": null,
      "outputs": [
        {
          "output_type": "execute_result",
          "data": {
            "text/plain": [
              "6199     IGNORADO\n",
              "6448     IGNORADO\n",
              "6514     IGNORADO\n",
              "9356     IGNORADO\n",
              "12329    IGNORADO\n",
              "13817    IGNORADO\n",
              "14641    IGNORADO\n",
              "16040    IGNORADO\n",
              "18247    IGNORADO\n",
              "18851    IGNORADO\n",
              "Name: asma, dtype: object"
            ]
          },
          "metadata": {},
          "execution_count": 153
        }
      ]
    },
    {
      "cell_type": "code",
      "source": [
        "import matplotlib.pyplot as plt\n",
        "plt.hist = dados_covid_dc.hist('obito')"
      ],
      "metadata": {
        "colab": {
          "base_uri": "https://localhost:8080/",
          "height": 281
        },
        "id": "TqhnCgd7VKnD",
        "outputId": "6a81a485-1e34-456b-cc28-d7a835adcde4"
      },
      "execution_count": null,
      "outputs": [
        {
          "output_type": "display_data",
          "data": {
            "text/plain": [
              "<Figure size 432x288 with 1 Axes>"
            ],
            "image/png": "[encoded data removed]"
          },
          "metadata": {
            "needs_background": "light"
          }
        }
      ]
    },
    {
      "cell_type": "code",
      "source": [
        "# excluindo dados irrelevantes para o aprendizado\n",
        "dados_covid_dc.drop('nome_munic', axis=1, inplace=True)\n",
        "dados_covid_dc.drop('data_inicio_sintomas', axis=1, inplace=True)\n",
        "dados_covid_dc.drop('diagnostico_covid19', axis=1, inplace=True)\n",
        "dados_covid_dc.drop('codigo_ibge', axis=1, inplace=True)\n",
        "dados_covid_dc.drop('sindrome_de_down', axis=1, inplace=True)\n",
        "dados_covid_dc.drop('puerpera', axis=1, inplace=True)\n",
        "dados_covid_dc.drop('doenca_hepatica', axis=1, inplace=True)\n",
        "dados_covid_dc.drop('imunodepressao', axis=1, inplace=True)\n",
        "dados_covid_dc.drop('doenca_renal', axis=1, inplace=True)\n",
        "dados_covid_dc.drop('doenca_neurologica', axis=1, inplace=True)\n",
        "dados_covid_dc.drop('doenca_hematologica', axis=1, inplace=True)\n",
        "dados_covid_dc.drop('cardiopatia', axis=1, inplace=True)\n",
        "dados_covid_dc.drop('cs_sexo', axis=1, inplace=True)\n",
        "dados_covid_dc.drop('pneumopatia', axis=1, inplace=True)\n",
        "dados_covid_dc.drop('asma', axis=1, inplace=True)"
      ],
      "metadata": {
        "colab": {
          "base_uri": "https://localhost:8080/"
        },
        "id": "HWtLnVxcBdoT",
        "outputId": "8ef9113e-0757-4384-a386-6348cabf32eb"
      },
      "execution_count": null,
      "outputs": [
        {
          "output_type": "stream",
          "name": "stderr",
          "text": [
            "<ipython-input-155-bac2618e4d27>:2: SettingWithCopyWarning: \n",
            "A value is trying to be set on a copy of a slice from a DataFrame\n",
            "\n",
            "See the caveats in the documentation: https://pandas.pydata.org/pandas-docs/stable/user_guide/indexing.html#returning-a-view-versus-a-copy\n",
            "  dados_covid_dc.drop('nome_munic', axis=1, inplace=True)\n",
            "<ipython-input-155-bac2618e4d27>:3: SettingWithCopyWarning: \n",
            "A value is trying to be set on a copy of a slice from a DataFrame\n",
            "\n",
            "See the caveats in the documentation: https://pandas.pydata.org/pandas-docs/stable/user_guide/indexing.html#returning-a-view-versus-a-copy\n",
            "  dados_covid_dc.drop('data_inicio_sintomas', axis=1, inplace=True)\n",
            "<ipython-input-155-bac2618e4d27>:4: SettingWithCopyWarning: \n",
            "A value is trying to be set on a copy of a slice from a DataFrame\n",
            "\n",
            "See the caveats in the documentation: https://pandas.pydata.org/pandas-docs/stable/user_guide/indexing.html#returning-a-view-versus-a-copy\n",
            "  dados_covid_dc.drop('diagnostico_covid19', axis=1, inplace=True)\n",
            "<ipython-input-155-bac2618e4d27>:5: SettingWithCopyWarning: \n",
            "A value is trying to be set on a copy of a slice from a DataFrame\n",
            "\n",
            "See the caveats in the documentation: https://pandas.pydata.org/pandas-docs/stable/user_guide/indexing.html#returning-a-view-versus-a-copy\n",
            "  dados_covid_dc.drop('codigo_ibge', axis=1, inplace=True)\n",
            "<ipython-input-155-bac2618e4d27>:6: SettingWithCopyWarning: \n",
            "A value is trying to be set on a copy of a slice from a DataFrame\n",
            "\n",
            "See the caveats in the documentation: https://pandas.pydata.org/pandas-docs/stable/user_guide/indexing.html#returning-a-view-versus-a-copy\n",
            "  dados_covid_dc.drop('sindrome_de_down', axis=1, inplace=True)\n",
            "<ipython-input-155-bac2618e4d27>:7: SettingWithCopyWarning: \n",
            "A value is trying to be set on a copy of a slice from a DataFrame\n",
            "\n",
            "See the caveats in the documentation: https://pandas.pydata.org/pandas-docs/stable/user_guide/indexing.html#returning-a-view-versus-a-copy\n",
            "  dados_covid_dc.drop('puerpera', axis=1, inplace=True)\n",
            "<ipython-input-155-bac2618e4d27>:8: SettingWithCopyWarning: \n",
            "A value is trying to be set on a copy of a slice from a DataFrame\n",
            "\n",
            "See the caveats in the documentation: https://pandas.pydata.org/pandas-docs/stable/user_guide/indexing.html#returning-a-view-versus-a-copy\n",
            "  dados_covid_dc.drop('doenca_hepatica', axis=1, inplace=True)\n",
            "<ipython-input-155-bac2618e4d27>:9: SettingWithCopyWarning: \n",
            "A value is trying to be set on a copy of a slice from a DataFrame\n",
            "\n",
            "See the caveats in the documentation: https://pandas.pydata.org/pandas-docs/stable/user_guide/indexing.html#returning-a-view-versus-a-copy\n",
            "  dados_covid_dc.drop('imunodepressao', axis=1, inplace=True)\n",
            "<ipython-input-155-bac2618e4d27>:10: SettingWithCopyWarning: \n",
            "A value is trying to be set on a copy of a slice from a DataFrame\n",
            "\n",
            "See the caveats in the documentation: https://pandas.pydata.org/pandas-docs/stable/user_guide/indexing.html#returning-a-view-versus-a-copy\n",
            "  dados_covid_dc.drop('doenca_renal', axis=1, inplace=True)\n",
            "<ipython-input-155-bac2618e4d27>:11: SettingWithCopyWarning: \n",
            "A value is trying to be set on a copy of a slice from a DataFrame\n",
            "\n",
            "See the caveats in the documentation: https://pandas.pydata.org/pandas-docs/stable/user_guide/indexing.html#returning-a-view-versus-a-copy\n",
            "  dados_covid_dc.drop('doenca_neurologica', axis=1, inplace=True)\n",
            "<ipython-input-155-bac2618e4d27>:12: SettingWithCopyWarning: \n",
            "A value is trying to be set on a copy of a slice from a DataFrame\n",
            "\n",
            "See the caveats in the documentation: https://pandas.pydata.org/pandas-docs/stable/user_guide/indexing.html#returning-a-view-versus-a-copy\n",
            "  dados_covid_dc.drop('doenca_hematologica', axis=1, inplace=True)\n",
            "<ipython-input-155-bac2618e4d27>:13: SettingWithCopyWarning: \n",
            "A value is trying to be set on a copy of a slice from a DataFrame\n",
            "\n",
            "See the caveats in the documentation: https://pandas.pydata.org/pandas-docs/stable/user_guide/indexing.html#returning-a-view-versus-a-copy\n",
            "  dados_covid_dc.drop('cardiopatia', axis=1, inplace=True)\n",
            "<ipython-input-155-bac2618e4d27>:14: SettingWithCopyWarning: \n",
            "A value is trying to be set on a copy of a slice from a DataFrame\n",
            "\n",
            "See the caveats in the documentation: https://pandas.pydata.org/pandas-docs/stable/user_guide/indexing.html#returning-a-view-versus-a-copy\n",
            "  dados_covid_dc.drop('cs_sexo', axis=1, inplace=True)\n",
            "<ipython-input-155-bac2618e4d27>:15: SettingWithCopyWarning: \n",
            "A value is trying to be set on a copy of a slice from a DataFrame\n",
            "\n",
            "See the caveats in the documentation: https://pandas.pydata.org/pandas-docs/stable/user_guide/indexing.html#returning-a-view-versus-a-copy\n",
            "  dados_covid_dc.drop('pneumopatia', axis=1, inplace=True)\n",
            "<ipython-input-155-bac2618e4d27>:16: SettingWithCopyWarning: \n",
            "A value is trying to be set on a copy of a slice from a DataFrame\n",
            "\n",
            "See the caveats in the documentation: https://pandas.pydata.org/pandas-docs/stable/user_guide/indexing.html#returning-a-view-versus-a-copy\n",
            "  dados_covid_dc.drop('asma', axis=1, inplace=True)\n"
          ]
        }
      ]
    },
    {
      "cell_type": "code",
      "source": [
        "# COMO UMA REDE NEURAL NÃO ENTENDE VALORES DISCRETOS, PASSAMOS PARA CONTÍNUOS(NUMERICOS)\n",
        "#dados_covid_dc['asma'] = dados_covid_dc['asma'].map({'NÃO':1, 'SIM':2})\n",
        "dados_covid_dc['outros_fatores_de_risco'] = dados_covid_dc['outros_fatores_de_risco'].map({'IGNORADO':0, 'NÃO':1, 'SIM':2})\n",
        "dados_covid_dc['obesidade'] = dados_covid_dc['obesidade'].map({'IGNORADO':0, 'NÃO':1, 'SIM':2})\n",
        "#dados_covid_dc['imunodepressao'] = dados_covid_dc['imunodepressao'].map({'IGNORADO':0, 'NÃO':1, 'SIM':2})\n",
        "#dados_covid_dc['doenca_renal'] = dados_covid_dc['doenca_renal'].map({'IGNORADO':0, 'NÃO':1, 'SIM':2})\n",
        "#dados_covid_dc['doenca_neurologica'] = dados_covid_dc['doenca_neurologica'].map({'IGNORADO':0, 'NÃO':1, 'SIM':2})\n",
        "#dados_covid_dc['doenca_hematologica'] = dados_covid_dc['doenca_hematologica'].map({'IGNORADO':0, 'NÃO':1, 'SIM':2})\n",
        "#dados_covid_dc['cardiopatia'] = dados_covid_dc['cardiopatia'].map({'IGNORADO':0, 'NÃO':1, 'SIM':2})\n",
        "dados_covid_dc['diabetes'] = dados_covid_dc['diabetes'].map({'IGNORADO':0, 'NÃO':1, 'SIM':2})\n",
        "#dados_covid_dc['pneumopatia'] = dados_covid_dc['pneumopatia'].map({'NÃO':1, 'SIM':2})"
      ],
      "metadata": {
        "colab": {
          "base_uri": "https://localhost:8080/"
        },
        "id": "LzplyH4LBe3l",
        "outputId": "178e95e7-0bb3-4b3c-e8dd-af67f2e14a82"
      },
      "execution_count": null,
      "outputs": [
        {
          "output_type": "stream",
          "name": "stderr",
          "text": [
            "<ipython-input-156-1ae71a5d493d>:3: SettingWithCopyWarning: \n",
            "A value is trying to be set on a copy of a slice from a DataFrame.\n",
            "Try using .loc[row_indexer,col_indexer] = value instead\n",
            "\n",
            "See the caveats in the documentation: https://pandas.pydata.org/pandas-docs/stable/user_guide/indexing.html#returning-a-view-versus-a-copy\n",
            "  dados_covid_dc['outros_fatores_de_risco'] = dados_covid_dc['outros_fatores_de_risco'].map({'IGNORADO':0, 'NÃO':1, 'SIM':2})\n",
            "<ipython-input-156-1ae71a5d493d>:4: SettingWithCopyWarning: \n",
            "A value is trying to be set on a copy of a slice from a DataFrame.\n",
            "Try using .loc[row_indexer,col_indexer] = value instead\n",
            "\n",
            "See the caveats in the documentation: https://pandas.pydata.org/pandas-docs/stable/user_guide/indexing.html#returning-a-view-versus-a-copy\n",
            "  dados_covid_dc['obesidade'] = dados_covid_dc['obesidade'].map({'IGNORADO':0, 'NÃO':1, 'SIM':2})\n",
            "<ipython-input-156-1ae71a5d493d>:10: SettingWithCopyWarning: \n",
            "A value is trying to be set on a copy of a slice from a DataFrame.\n",
            "Try using .loc[row_indexer,col_indexer] = value instead\n",
            "\n",
            "See the caveats in the documentation: https://pandas.pydata.org/pandas-docs/stable/user_guide/indexing.html#returning-a-view-versus-a-copy\n",
            "  dados_covid_dc['diabetes'] = dados_covid_dc['diabetes'].map({'IGNORADO':0, 'NÃO':1, 'SIM':2})\n"
          ]
        }
      ]
    },
    {
      "cell_type": "code",
      "source": [
        "# IMPORTANDO BIBLIOTECAS\n",
        "import numpy as np\n",
        "import pandas as pd\n",
        "import torch\n",
        "import torch.nn as nn\n",
        "import torch.nn.functional as F\n",
        "import sklearn.datasets\n",
        "from sklearn.preprocessing import MinMaxScaler\n",
        "from sklearn.model_selection import train_test_split\n",
        "import seaborn as sns\n",
        "import matplotlib.pyplot as plt\n"
      ],
      "metadata": {
        "id": "RLrCAoWeBkY3"
      },
      "execution_count": null,
      "outputs": []
    },
    {
      "cell_type": "code",
      "source": [
        "# DADOS ONDE A OBESIDADE FOI OBSERVADA (NÃO= 1), (SIM= 2)\n",
        "dados_covid_dc =dados_covid_dc[dados_covid_dc['obesidade'] > 0]\n",
        "dados_covid_dc.head"
      ],
      "metadata": {
        "colab": {
          "base_uri": "https://localhost:8080/"
        },
        "id": "k3ywK2qrQd30",
        "outputId": "031de42e-fa1f-40b3-9077-9d8bee81ab78"
      },
      "execution_count": null,
      "outputs": [
        {
          "output_type": "execute_result",
          "data": {
            "text/plain": [
              "<bound method NDFrame.head of          idade  obito  diabetes  obesidade  outros_fatores_de_risco\n",
              "102638    33.0      1         1          2                        1\n",
              "150379    87.0      0         1          1                        1\n",
              "266102    40.0      0         1          1                        1\n",
              "374542    65.0      0         2          1                        1\n",
              "603014    64.0      0         1          1                        1\n",
              "...        ...    ...       ...        ...                      ...\n",
              "6081323   33.0      1         1          2                        1\n",
              "6081388   28.0      0         1          1                        1\n",
              "6353431   53.0      0         2          1                        1\n",
              "6428549   52.0      0         1          1                        1\n",
              "6453435    2.0      0         1          1                        0\n",
              "\n",
              "[63 rows x 5 columns]>"
            ]
          },
          "metadata": {},
          "execution_count": 158
        }
      ]
    },
    {
      "cell_type": "code",
      "source": [
        "# DADOS ONDE A DIABETES FOI OBSERVADA (NÃO= 1), (SIM= 2)\n",
        "dados_covid_dc =dados_covid_dc[dados_covid_dc['diabetes'] > 0]\n",
        "dados_covid_dc.head"
      ],
      "metadata": {
        "colab": {
          "base_uri": "https://localhost:8080/"
        },
        "id": "J8ae2K5EmZc3",
        "outputId": "3fcba77c-b3a3-4e87-9f12-c48340fd9766"
      },
      "execution_count": null,
      "outputs": [
        {
          "output_type": "execute_result",
          "data": {
            "text/plain": [
              "<bound method NDFrame.head of          idade  obito  diabetes  obesidade  outros_fatores_de_risco\n",
              "102638    33.0      1         1          2                        1\n",
              "150379    87.0      0         1          1                        1\n",
              "266102    40.0      0         1          1                        1\n",
              "374542    65.0      0         2          1                        1\n",
              "603014    64.0      0         1          1                        1\n",
              "...        ...    ...       ...        ...                      ...\n",
              "6081323   33.0      1         1          2                        1\n",
              "6081388   28.0      0         1          1                        1\n",
              "6353431   53.0      0         2          1                        1\n",
              "6428549   52.0      0         1          1                        1\n",
              "6453435    2.0      0         1          1                        0\n",
              "\n",
              "[61 rows x 5 columns]>"
            ]
          },
          "metadata": {},
          "execution_count": 159
        }
      ]
    },
    {
      "cell_type": "code",
      "source": [
        "# DADOS ONDE A OUTROS FATORES DE RISCO FORAM OBSERVADOS (NÃO= 1), (SIM= 2)\n",
        "dados_covid_dc =dados_covid_dc[dados_covid_dc['outros_fatores_de_risco'] > 0]\n",
        "dados_covid_dc.head"
      ],
      "metadata": {
        "colab": {
          "base_uri": "https://localhost:8080/"
        },
        "id": "CRSoJKgXmkIS",
        "outputId": "bb059e05-2b5b-4413-9173-65910d9bda8f"
      },
      "execution_count": null,
      "outputs": [
        {
          "output_type": "execute_result",
          "data": {
            "text/plain": [
              "<bound method NDFrame.head of          idade  obito  diabetes  obesidade  outros_fatores_de_risco\n",
              "102638    33.0      1         1          2                        1\n",
              "150379    87.0      0         1          1                        1\n",
              "266102    40.0      0         1          1                        1\n",
              "374542    65.0      0         2          1                        1\n",
              "603014    64.0      0         1          1                        1\n",
              "675210    59.0      0         2          1                        1\n",
              "694968    72.0      1         1          1                        2\n",
              "700460    59.0      0         2          1                        1\n",
              "965798    50.0      1         2          2                        1\n",
              "1074902   52.0      0         1          1                        1\n",
              "1280829   45.0      0         1          2                        1\n",
              "1592414   52.0      1         2          2                        1\n",
              "1646704   49.0      0         1          1                        1\n",
              "1934082   71.0      1         2          1                        2\n",
              "2118112   62.0      0         2          1                        1\n",
              "2201932   64.0      1         2          1                        1\n",
              "2292845   32.0      0         1          1                        1\n",
              "2507981   81.0      0         2          1                        1\n",
              "2558406   63.0      0         1          1                        2\n",
              "2615022   75.0      1         2          1                        2\n",
              "2892029   64.0      0         1          1                        1\n",
              "2943212   33.0      0         1          1                        1\n",
              "3077153   75.0      1         2          1                        2\n",
              "3143257   56.0      1         2          1                        1\n",
              "3151139   72.0      1         2          1                        1\n",
              "3192233   68.0      1         2          1                        1\n",
              "3638225   58.0      0         1          1                        2\n",
              "3650343   55.0      0         2          2                        1\n",
              "3831873   74.0      0         1          2                        2\n",
              "3851378   75.0      1         2          1                        1\n",
              "4036925   29.0      0         1          2                        1\n",
              "4110677   56.0      1         1          1                        1\n",
              "4131555   65.0      1         2          2                        2\n",
              "4254634   56.0      0         2          1                        1\n",
              "4307511   60.0      0         2          1                        1\n",
              "4338079   60.0      1         2          2                        2\n",
              "4463643   30.0      1         1          1                        1\n",
              "4894661   47.0      1         1          1                        1\n",
              "4913553   71.0      0         1          1                        2\n",
              "5052841   70.0      0         2          1                        1\n",
              "5083766   86.0      1         1          1                        1\n",
              "5088302   44.0      1         1          1                        2\n",
              "5108865   52.0      0         1          1                        2\n",
              "5113165   79.0      1         1          1                        1\n",
              "5278945   46.0      0         1          1                        1\n",
              "5404518   59.0      1         1          1                        1\n",
              "5673099   72.0      0         2          1                        1\n",
              "5689549   86.0      0         2          1                        1\n",
              "6073095   38.0      0         1          1                        2\n",
              "6081323   33.0      1         1          2                        1\n",
              "6081388   28.0      0         1          1                        1\n",
              "6353431   53.0      0         2          1                        1\n",
              "6428549   52.0      0         1          1                        1>"
            ]
          },
          "metadata": {},
          "execution_count": 160
        }
      ]
    },
    {
      "cell_type": "code",
      "source": [
        "\n",
        "dados_covid_dc.head"
      ],
      "metadata": {
        "colab": {
          "base_uri": "https://localhost:8080/"
        },
        "id": "9kYw05guxw4L",
        "outputId": "12ec21e2-1d4f-4bcd-de08-0e49f25bd0b3"
      },
      "execution_count": null,
      "outputs": [
        {
          "output_type": "execute_result",
          "data": {
            "text/plain": [
              "<bound method NDFrame.head of          idade  obito  diabetes  obesidade  outros_fatores_de_risco\n",
              "102638    33.0      1         1          2                        1\n",
              "150379    87.0      0         1          1                        1\n",
              "266102    40.0      0         1          1                        1\n",
              "374542    65.0      0         2          1                        1\n",
              "603014    64.0      0         1          1                        1\n",
              "675210    59.0      0         2          1                        1\n",
              "694968    72.0      1         1          1                        2\n",
              "700460    59.0      0         2          1                        1\n",
              "965798    50.0      1         2          2                        1\n",
              "1074902   52.0      0         1          1                        1\n",
              "1280829   45.0      0         1          2                        1\n",
              "1592414   52.0      1         2          2                        1\n",
              "1646704   49.0      0         1          1                        1\n",
              "1934082   71.0      1         2          1                        2\n",
              "2118112   62.0      0         2          1                        1\n",
              "2201932   64.0      1         2          1                        1\n",
              "2292845   32.0      0         1          1                        1\n",
              "2507981   81.0      0         2          1                        1\n",
              "2558406   63.0      0         1          1                        2\n",
              "2615022   75.0      1         2          1                        2\n",
              "2892029   64.0      0         1          1                        1\n",
              "2943212   33.0      0         1          1                        1\n",
              "3077153   75.0      1         2          1                        2\n",
              "3143257   56.0      1         2          1                        1\n",
              "3151139   72.0      1         2          1                        1\n",
              "3192233   68.0      1         2          1                        1\n",
              "3638225   58.0      0         1          1                        2\n",
              "3650343   55.0      0         2          2                        1\n",
              "3831873   74.0      0         1          2                        2\n",
              "3851378   75.0      1         2          1                        1\n",
              "4036925   29.0      0         1          2                        1\n",
              "4110677   56.0      1         1          1                        1\n",
              "4131555   65.0      1         2          2                        2\n",
              "4254634   56.0      0         2          1                        1\n",
              "4307511   60.0      0         2          1                        1\n",
              "4338079   60.0      1         2          2                        2\n",
              "4463643   30.0      1         1          1                        1\n",
              "4894661   47.0      1         1          1                        1\n",
              "4913553   71.0      0         1          1                        2\n",
              "5052841   70.0      0         2          1                        1\n",
              "5083766   86.0      1         1          1                        1\n",
              "5088302   44.0      1         1          1                        2\n",
              "5108865   52.0      0         1          1                        2\n",
              "5113165   79.0      1         1          1                        1\n",
              "5278945   46.0      0         1          1                        1\n",
              "5404518   59.0      1         1          1                        1\n",
              "5673099   72.0      0         2          1                        1\n",
              "5689549   86.0      0         2          1                        1\n",
              "6073095   38.0      0         1          1                        2\n",
              "6081323   33.0      1         1          2                        1\n",
              "6081388   28.0      0         1          1                        1\n",
              "6353431   53.0      0         2          1                        1\n",
              "6428549   52.0      0         1          1                        1>"
            ]
          },
          "metadata": {},
          "execution_count": 161
        }
      ]
    },
    {
      "cell_type": "code",
      "source": [
        "from datetime import datetime\n",
        "dados_covid_dc['Risco'] = dados_covid_dc['outros_fatores_de_risco'] + dados_covid_dc['diabetes'] + dados_covid_dc['obesidade']"
      ],
      "metadata": {
        "colab": {
          "base_uri": "https://localhost:8080/"
        },
        "id": "qL3iAgTKx7xe",
        "outputId": "33553972-23aa-4bb3-febb-d32ace41638b"
      },
      "execution_count": null,
      "outputs": [
        {
          "output_type": "stream",
          "name": "stderr",
          "text": [
            "<ipython-input-162-f059044895f4>:2: SettingWithCopyWarning: \n",
            "A value is trying to be set on a copy of a slice from a DataFrame.\n",
            "Try using .loc[row_indexer,col_indexer] = value instead\n",
            "\n",
            "See the caveats in the documentation: https://pandas.pydata.org/pandas-docs/stable/user_guide/indexing.html#returning-a-view-versus-a-copy\n",
            "  dados_covid_dc['Risco'] = dados_covid_dc['outros_fatores_de_risco'] + dados_covid_dc['diabetes'] + dados_covid_dc['obesidade']\n"
          ]
        }
      ]
    },
    {
      "cell_type": "code",
      "source": [
        "# BASE DE DADOS COM TABELA QUE SERÁ USADA PARA TREINAR E VALIDAR REDE MLP\n",
        "dados_covid_dc.head(100)\n"
      ],
      "metadata": {
        "colab": {
          "base_uri": "https://localhost:8080/",
          "height": 1000
        },
        "id": "FhBib9tN0xOh",
        "outputId": "2233b3be-550f-4858-bda9-3da77c94a759"
      },
      "execution_count": null,
      "outputs": [
        {
          "output_type": "execute_result",
          "data": {
            "text/plain": [
              "         idade  obito  diabetes  obesidade  outros_fatores_de_risco  Risco\n",
              "102638    33.0      1         1          2                        1      4\n",
              "150379    87.0      0         1          1                        1      3\n",
              "266102    40.0      0         1          1                        1      3\n",
              "374542    65.0      0         2          1                        1      4\n",
              "603014    64.0      0         1          1                        1      3\n",
              "675210    59.0      0         2          1                        1      4\n",
              "694968    72.0      1         1          1                        2      4\n",
              "700460    59.0      0         2          1                        1      4\n",
              "965798    50.0      1         2          2                        1      5\n",
              "1074902   52.0      0         1          1                        1      3\n",
              "1280829   45.0      0         1          2                        1      4\n",
              "1592414   52.0      1         2          2                        1      5\n",
              "1646704   49.0      0         1          1                        1      3\n",
              "1934082   71.0      1         2          1                        2      5\n",
              "2118112   62.0      0         2          1                        1      4\n",
              "2201932   64.0      1         2          1                        1      4\n",
              "2292845   32.0      0         1          1                        1      3\n",
              "2507981   81.0      0         2          1                        1      4\n",
              "2558406   63.0      0         1          1                        2      4\n",
              "2615022   75.0      1         2          1                        2      5\n",
              "2892029   64.0      0         1          1                        1      3\n",
              "2943212   33.0      0         1          1                        1      3\n",
              "3077153   75.0      1         2          1                        2      5\n",
              "3143257   56.0      1         2          1                        1      4\n",
              "3151139   72.0      1         2          1                        1      4\n",
              "3192233   68.0      1         2          1                        1      4\n",
              "3638225   58.0      0         1          1                        2      4\n",
              "3650343   55.0      0         2          2                        1      5\n",
              "3831873   74.0      0         1          2                        2      5\n",
              "3851378   75.0      1         2          1                        1      4\n",
              "4036925   29.0      0         1          2                        1      4\n",
              "4110677   56.0      1         1          1                        1      3\n",
              "4131555   65.0      1         2          2                        2      6\n",
              "4254634   56.0      0         2          1                        1      4\n",
              "4307511   60.0      0         2          1                        1      4\n",
              "4338079   60.0      1         2          2                        2      6\n",
              "4463643   30.0      1         1          1                        1      3\n",
              "4894661   47.0      1         1          1                        1      3\n",
              "4913553   71.0      0         1          1                        2      4\n",
              "5052841   70.0      0         2          1                        1      4\n",
              "5083766   86.0      1         1          1                        1      3\n",
              "5088302   44.0      1         1          1                        2      4\n",
              "5108865   52.0      0         1          1                        2      4\n",
              "5113165   79.0      1         1          1                        1      3\n",
              "5278945   46.0      0         1          1                        1      3\n",
              "5404518   59.0      1         1          1                        1      3\n",
              "5673099   72.0      0         2          1                        1      4\n",
              "5689549   86.0      0         2          1                        1      4\n",
              "6073095   38.0      0         1          1                        2      4\n",
              "6081323   33.0      1         1          2                        1      4\n",
              "6081388   28.0      0         1          1                        1      3\n",
              "6353431   53.0      0         2          1                        1      4\n",
              "6428549   52.0      0         1          1                        1      3"
            ],
            "text/html": [
              "\n",
              "  <div id=\"df-d76245ec-5b5c-47c7-a162-a949c7cdd86d\">\n",
              "    <div class=\"colab-df-container\">\n",
              "      <div>\n",
              "<style scoped>\n",
              "    .dataframe tbody tr th:only-of-type {\n",
              "        vertical-align: middle;\n",
              "    }\n",
              "\n",
              "    .dataframe tbody tr th {\n",
              "        vertical-align: top;\n",
              "    }\n",
              "\n",
              "    .dataframe thead th {\n",
              "        text-align: right;\n",
              "    }\n",
              "</style>\n",
              "<table border=\"1\" class=\"dataframe\">\n",
              "  <thead>\n",
              "    <tr style=\"text-align: right;\">\n",
              "      <th></th>\n",
              "      <th>idade</th>\n",
              "      <th>obito</th>\n",
              "      <th>diabetes</th>\n",
              "      <th>obesidade</th>\n",
              "      <th>outros_fatores_de_risco</th>\n",
              "      <th>Risco</th>\n",
              "    </tr>\n",
              "  </thead>\n",
              "  <tbody>\n",
              "    <tr>\n",
              "      <th>102638</th>\n",
              "      <td>33.0</td>\n",
              "      <td>1</td>\n",
              "      <td>1</td>\n",
              "      <td>2</td>\n",
              "      <td>1</td>\n",
              "      <td>4</td>\n",
              "    </tr>\n",
              "    <tr>\n",
              "      <th>150379</th>\n",
              "      <td>87.0</td>\n",
              "      <td>0</td>\n",
              "      <td>1</td>\n",
              "      <td>1</td>\n",
              "      <td>1</td>\n",
              "      <td>3</td>\n",
              "    </tr>\n",
              "    <tr>\n",
              "      <th>266102</th>\n",
              "      <td>40.0</td>\n",
              "      <td>0</td>\n",
              "      <td>1</td>\n",
              "      <td>1</td>\n",
              "      <td>1</td>\n",
              "      <td>3</td>\n",
              "    </tr>\n",
              "    <tr>\n",
              "      <th>374542</th>\n",
              "      <td>65.0</td>\n",
              "      <td>0</td>\n",
              "      <td>2</td>\n",
              "      <td>1</td>\n",
              "      <td>1</td>\n",
              "      <td>4</td>\n",
              "    </tr>\n",
              "    <tr>\n",
              "      <th>603014</th>\n",
              "      <td>64.0</td>\n",
              "      <td>0</td>\n",
              "      <td>1</td>\n",
              "      <td>1</td>\n",
              "      <td>1</td>\n",
              "      <td>3</td>\n",
              "    </tr>\n",
              "    <tr>\n",
              "      <th>675210</th>\n",
              "      <td>59.0</td>\n",
              "      <td>0</td>\n",
              "      <td>2</td>\n",
              "      <td>1</td>\n",
              "      <td>1</td>\n",
              "      <td>4</td>\n",
              "    </tr>\n",
              "    <tr>\n",
              "      <th>694968</th>\n",
              "      <td>72.0</td>\n",
              "      <td>1</td>\n",
              "      <td>1</td>\n",
              "      <td>1</td>\n",
              "      <td>2</td>\n",
              "      <td>4</td>\n",
              "    </tr>\n",
              "    <tr>\n",
              "      <th>700460</th>\n",
              "      <td>59.0</td>\n",
              "      <td>0</td>\n",
              "      <td>2</td>\n",
              "      <td>1</td>\n",
              "      <td>1</td>\n",
              "      <td>4</td>\n",
              "    </tr>\n",
              "    <tr>\n",
              "      <th>965798</th>\n",
              "      <td>50.0</td>\n",
              "      <td>1</td>\n",
              "      <td>2</td>\n",
              "      <td>2</td>\n",
              "      <td>1</td>\n",
              "      <td>5</td>\n",
              "    </tr>\n",
              "    <tr>\n",
              "      <th>1074902</th>\n",
              "      <td>52.0</td>\n",
              "      <td>0</td>\n",
              "      <td>1</td>\n",
              "      <td>1</td>\n",
              "      <td>1</td>\n",
              "      <td>3</td>\n",
              "    </tr>\n",
              "    <tr>\n",
              "      <th>1280829</th>\n",
              "      <td>45.0</td>\n",
              "      <td>0</td>\n",
              "      <td>1</td>\n",
              "      <td>2</td>\n",
              "      <td>1</td>\n",
              "      <td>4</td>\n",
              "    </tr>\n",
              "    <tr>\n",
              "      <th>1592414</th>\n",
              "      <td>52.0</td>\n",
              "      <td>1</td>\n",
              "      <td>2</td>\n",
              "      <td>2</td>\n",
              "      <td>1</td>\n",
              "      <td>5</td>\n",
              "    </tr>\n",
              "    <tr>\n",
              "      <th>1646704</th>\n",
              "      <td>49.0</td>\n",
              "      <td>0</td>\n",
              "      <td>1</td>\n",
              "      <td>1</td>\n",
              "      <td>1</td>\n",
              "      <td>3</td>\n",
              "    </tr>\n",
              "    <tr>\n",
              "      <th>1934082</th>\n",
              "      <td>71.0</td>\n",
              "      <td>1</td>\n",
              "      <td>2</td>\n",
              "      <td>1</td>\n",
              "      <td>2</td>\n",
              "      <td>5</td>\n",
              "    </tr>\n",
              "    <tr>\n",
              "      <th>2118112</th>\n",
              "      <td>62.0</td>\n",
              "      <td>0</td>\n",
              "      <td>2</td>\n",
              "      <td>1</td>\n",
              "      <td>1</td>\n",
              "      <td>4</td>\n",
              "    </tr>\n",
              "    <tr>\n",
              "      <th>2201932</th>\n",
              "      <td>64.0</td>\n",
              "      <td>1</td>\n",
              "      <td>2</td>\n",
              "      <td>1</td>\n",
              "      <td>1</td>\n",
              "      <td>4</td>\n",
              "    </tr>\n",
              "    <tr>\n",
              "      <th>2292845</th>\n",
              "      <td>32.0</td>\n",
              "      <td>0</td>\n",
              "      <td>1</td>\n",
              "      <td>1</td>\n",
              "      <td>1</td>\n",
              "      <td>3</td>\n",
              "    </tr>\n",
              "    <tr>\n",
              "      <th>2507981</th>\n",
              "      <td>81.0</td>\n",
              "      <td>0</td>\n",
              "      <td>2</td>\n",
              "      <td>1</td>\n",
              "      <td>1</td>\n",
              "      <td>4</td>\n",
              "    </tr>\n",
              "    <tr>\n",
              "      <th>2558406</th>\n",
              "      <td>63.0</td>\n",
              "      <td>0</td>\n",
              "      <td>1</td>\n",
              "      <td>1</td>\n",
              "      <td>2</td>\n",
              "      <td>4</td>\n",
              "    </tr>\n",
              "    <tr>\n",
              "      <th>2615022</th>\n",
              "      <td>75.0</td>\n",
              "      <td>1</td>\n",
              "      <td>2</td>\n",
              "      <td>1</td>\n",
              "      <td>2</td>\n",
              "      <td>5</td>\n",
              "    </tr>\n",
              "    <tr>\n",
              "      <th>2892029</th>\n",
              "      <td>64.0</td>\n",
              "      <td>0</td>\n",
              "      <td>1</td>\n",
              "      <td>1</td>\n",
              "      <td>1</td>\n",
              "      <td>3</td>\n",
              "    </tr>\n",
              "    <tr>\n",
              "      <th>2943212</th>\n",
              "      <td>33.0</td>\n",
              "      <td>0</td>\n",
              "      <td>1</td>\n",
              "      <td>1</td>\n",
              "      <td>1</td>\n",
              "      <td>3</td>\n",
              "    </tr>\n",
              "    <tr>\n",
              "      <th>3077153</th>\n",
              "      <td>75.0</td>\n",
              "      <td>1</td>\n",
              "      <td>2</td>\n",
              "      <td>1</td>\n",
              "      <td>2</td>\n",
              "      <td>5</td>\n",
              "    </tr>\n",
              "    <tr>\n",
              "      <th>3143257</th>\n",
              "      <td>56.0</td>\n",
              "      <td>1</td>\n",
              "      <td>2</td>\n",
              "      <td>1</td>\n",
              "      <td>1</td>\n",
              "      <td>4</td>\n",
              "    </tr>\n",
              "    <tr>\n",
              "      <th>3151139</th>\n",
              "      <td>72.0</td>\n",
              "      <td>1</td>\n",
              "      <td>2</td>\n",
              "      <td>1</td>\n",
              "      <td>1</td>\n",
              "      <td>4</td>\n",
              "    </tr>\n",
              "    <tr>\n",
              "      <th>3192233</th>\n",
              "      <td>68.0</td>\n",
              "      <td>1</td>\n",
              "      <td>2</td>\n",
              "      <td>1</td>\n",
              "      <td>1</td>\n",
              "      <td>4</td>\n",
              "    </tr>\n",
              "    <tr>\n",
              "      <th>3638225</th>\n",
              "      <td>58.0</td>\n",
              "      <td>0</td>\n",
              "      <td>1</td>\n",
              "      <td>1</td>\n",
              "      <td>2</td>\n",
              "      <td>4</td>\n",
              "    </tr>\n",
              "    <tr>\n",
              "      <th>3650343</th>\n",
              "      <td>55.0</td>\n",
              "      <td>0</td>\n",
              "      <td>2</td>\n",
              "      <td>2</td>\n",
              "      <td>1</td>\n",
              "      <td>5</td>\n",
              "    </tr>\n",
              "    <tr>\n",
              "      <th>3831873</th>\n",
              "      <td>74.0</td>\n",
              "      <td>0</td>\n",
              "      <td>1</td>\n",
              "      <td>2</td>\n",
              "      <td>2</td>\n",
              "      <td>5</td>\n",
              "    </tr>\n",
              "    <tr>\n",
              "      <th>3851378</th>\n",
              "      <td>75.0</td>\n",
              "      <td>1</td>\n",
              "      <td>2</td>\n",
              "      <td>1</td>\n",
              "      <td>1</td>\n",
              "      <td>4</td>\n",
              "    </tr>\n",
              "    <tr>\n",
              "      <th>4036925</th>\n",
              "      <td>29.0</td>\n",
              "      <td>0</td>\n",
              "      <td>1</td>\n",
              "      <td>2</td>\n",
              "      <td>1</td>\n",
              "      <td>4</td>\n",
              "    </tr>\n",
              "    <tr>\n",
              "      <th>4110677</th>\n",
              "      <td>56.0</td>\n",
              "      <td>1</td>\n",
              "      <td>1</td>\n",
              "      <td>1</td>\n",
              "      <td>1</td>\n",
              "      <td>3</td>\n",
              "    </tr>\n",
              "    <tr>\n",
              "      <th>4131555</th>\n",
              "      <td>65.0</td>\n",
              "      <td>1</td>\n",
              "      <td>2</td>\n",
              "      <td>2</td>\n",
              "      <td>2</td>\n",
              "      <td>6</td>\n",
              "    </tr>\n",
              "    <tr>\n",
              "      <th>4254634</th>\n",
              "      <td>56.0</td>\n",
              "      <td>0</td>\n",
              "      <td>2</td>\n",
              "      <td>1</td>\n",
              "      <td>1</td>\n",
              "      <td>4</td>\n",
              "    </tr>\n",
              "    <tr>\n",
              "      <th>4307511</th>\n",
              "      <td>60.0</td>\n",
              "      <td>0</td>\n",
              "      <td>2</td>\n",
              "      <td>1</td>\n",
              "      <td>1</td>\n",
              "      <td>4</td>\n",
              "    </tr>\n",
              "    <tr>\n",
              "      <th>4338079</th>\n",
              "      <td>60.0</td>\n",
              "      <td>1</td>\n",
              "      <td>2</td>\n",
              "      <td>2</td>\n",
              "      <td>2</td>\n",
              "      <td>6</td>\n",
              "    </tr>\n",
              "    <tr>\n",
              "      <th>4463643</th>\n",
              "      <td>30.0</td>\n",
              "      <td>1</td>\n",
              "      <td>1</td>\n",
              "      <td>1</td>\n",
              "      <td>1</td>\n",
              "      <td>3</td>\n",
              "    </tr>\n",
              "    <tr>\n",
              "      <th>4894661</th>\n",
              "      <td>47.0</td>\n",
              "      <td>1</td>\n",
              "      <td>1</td>\n",
              "      <td>1</td>\n",
              "      <td>1</td>\n",
              "      <td>3</td>\n",
              "    </tr>\n",
              "    <tr>\n",
              "      <th>4913553</th>\n",
              "      <td>71.0</td>\n",
              "      <td>0</td>\n",
              "      <td>1</td>\n",
              "      <td>1</td>\n",
              "      <td>2</td>\n",
              "      <td>4</td>\n",
              "    </tr>\n",
              "    <tr>\n",
              "      <th>5052841</th>\n",
              "      <td>70.0</td>\n",
              "      <td>0</td>\n",
              "      <td>2</td>\n",
              "      <td>1</td>\n",
              "      <td>1</td>\n",
              "      <td>4</td>\n",
              "    </tr>\n",
              "    <tr>\n",
              "      <th>5083766</th>\n",
              "      <td>86.0</td>\n",
              "      <td>1</td>\n",
              "      <td>1</td>\n",
              "      <td>1</td>\n",
              "      <td>1</td>\n",
              "      <td>3</td>\n",
              "    </tr>\n",
              "    <tr>\n",
              "      <th>5088302</th>\n",
              "      <td>44.0</td>\n",
              "      <td>1</td>\n",
              "      <td>1</td>\n",
              "      <td>1</td>\n",
              "      <td>2</td>\n",
              "      <td>4</td>\n",
              "    </tr>\n",
              "    <tr>\n",
              "      <th>5108865</th>\n",
              "      <td>52.0</td>\n",
              "      <td>0</td>\n",
              "      <td>1</td>\n",
              "      <td>1</td>\n",
              "      <td>2</td>\n",
              "      <td>4</td>\n",
              "    </tr>\n",
              "    <tr>\n",
              "      <th>5113165</th>\n",
              "      <td>79.0</td>\n",
              "      <td>1</td>\n",
              "      <td>1</td>\n",
              "      <td>1</td>\n",
              "      <td>1</td>\n",
              "      <td>3</td>\n",
              "    </tr>\n",
              "    <tr>\n",
              "      <th>5278945</th>\n",
              "      <td>46.0</td>\n",
              "      <td>0</td>\n",
              "      <td>1</td>\n",
              "      <td>1</td>\n",
              "      <td>1</td>\n",
              "      <td>3</td>\n",
              "    </tr>\n",
              "    <tr>\n",
              "      <th>5404518</th>\n",
              "      <td>59.0</td>\n",
              "      <td>1</td>\n",
              "      <td>1</td>\n",
              "      <td>1</td>\n",
              "      <td>1</td>\n",
              "      <td>3</td>\n",
              "    </tr>\n",
              "    <tr>\n",
              "      <th>5673099</th>\n",
              "      <td>72.0</td>\n",
              "      <td>0</td>\n",
              "      <td>2</td>\n",
              "      <td>1</td>\n",
              "      <td>1</td>\n",
              "      <td>4</td>\n",
              "    </tr>\n",
              "    <tr>\n",
              "      <th>5689549</th>\n",
              "      <td>86.0</td>\n",
              "      <td>0</td>\n",
              "      <td>2</td>\n",
              "      <td>1</td>\n",
              "      <td>1</td>\n",
              "      <td>4</td>\n",
              "    </tr>\n",
              "    <tr>\n",
              "      <th>6073095</th>\n",
              "      <td>38.0</td>\n",
              "      <td>0</td>\n",
              "      <td>1</td>\n",
              "      <td>1</td>\n",
              "      <td>2</td>\n",
              "      <td>4</td>\n",
              "    </tr>\n",
              "    <tr>\n",
              "      <th>6081323</th>\n",
              "      <td>33.0</td>\n",
              "      <td>1</td>\n",
              "      <td>1</td>\n",
              "      <td>2</td>\n",
              "      <td>1</td>\n",
              "      <td>4</td>\n",
              "    </tr>\n",
              "    <tr>\n",
              "      <th>6081388</th>\n",
              "      <td>28.0</td>\n",
              "      <td>0</td>\n",
              "      <td>1</td>\n",
              "      <td>1</td>\n",
              "      <td>1</td>\n",
              "      <td>3</td>\n",
              "    </tr>\n",
              "    <tr>\n",
              "      <th>6353431</th>\n",
              "      <td>53.0</td>\n",
              "      <td>0</td>\n",
              "      <td>2</td>\n",
              "      <td>1</td>\n",
              "      <td>1</td>\n",
              "      <td>4</td>\n",
              "    </tr>\n",
              "    <tr>\n",
              "      <th>6428549</th>\n",
              "      <td>52.0</td>\n",
              "      <td>0</td>\n",
              "      <td>1</td>\n",
              "      <td>1</td>\n",
              "      <td>1</td>\n",
              "      <td>3</td>\n",
              "    </tr>\n",
              "  </tbody>\n",
              "</table>\n",
              "</div>\n",
              "      <button class=\"colab-df-convert\" onclick=\"convertToInteractive('df-d76245ec-5b5c-47c7-a162-a949c7cdd86d')\"\n",
              "              title=\"Convert this dataframe to an interactive table.\"\n",
              "              style=\"display:none;\">\n",
              "        \n",
              "  <svg xmlns=\"http://www.w3.org/2000/svg\" height=\"24px\"viewBox=\"0 0 24 24\"\n",
              "       width=\"24px\">\n",
              "    <path d=\"M0 0h24v24H0V0z\" fill=\"none\"/>\n",
              "    <path d=\"M18.56 5.44l.94 2.06.94-2.06 2.06-.94-2.06-.94-.94-2.06-.94 2.06-2.06.94zm-11 1L8.5 8.5l.94-2.06 2.06-.94-2.06-.94L8.5 2.5l-.94 2.06-2.06.94zm10 10l.94 2.06.94-2.06 2.06-.94-2.06-.94-.94-2.06-.94 2.06-2.06.94z\"/><path d=\"M17.41 7.96l-1.37-1.37c-.4-.4-.92-.59-1.43-.59-.52 0-1.04.2-1.43.59L10.3 9.45l-7.72 7.72c-.78.78-.78 2.05 0 2.83L4 21.41c.39.39.9.59 1.41.59.51 0 1.02-.2 1.41-.59l7.78-7.78 2.81-2.81c.8-.78.8-2.07 0-2.86zM5.41 20L4 18.59l7.72-7.72 1.47 1.35L5.41 20z\"/>\n",
              "  </svg>\n",
              "      </button>\n",
              "      \n",
              "  <style>\n",
              "    .colab-df-container {\n",
              "      display:flex;\n",
              "      flex-wrap:wrap;\n",
              "      gap: 12px;\n",
              "    }\n",
              "\n",
              "    .colab-df-convert {\n",
              "      background-color: #E8F0FE;\n",
              "      border: none;\n",
              "      border-radius: 50%;\n",
              "      cursor: pointer;\n",
              "      display: none;\n",
              "      fill: #1967D2;\n",
              "      height: 32px;\n",
              "      padding: 0 0 0 0;\n",
              "      width: 32px;\n",
              "    }\n",
              "\n",
              "    .colab-df-convert:hover {\n",
              "      background-color: #E2EBFA;\n",
              "      box-shadow: 0px 1px 2px rgba(60, 64, 67, 0.3), 0px 1px 3px 1px rgba(60, 64, 67, 0.15);\n",
              "      fill: #174EA6;\n",
              "    }\n",
              "\n",
              "    [theme=dark] .colab-df-convert {\n",
              "      background-color: #3B4455;\n",
              "      fill: #D2E3FC;\n",
              "    }\n",
              "\n",
              "    [theme=dark] .colab-df-convert:hover {\n",
              "      background-color: #434B5C;\n",
              "      box-shadow: 0px 1px 3px 1px rgba(0, 0, 0, 0.15);\n",
              "      filter: drop-shadow(0px 1px 2px rgba(0, 0, 0, 0.3));\n",
              "      fill: #FFFFFF;\n",
              "    }\n",
              "  </style>\n",
              "\n",
              "      <script>\n",
              "        const buttonEl =\n",
              "          document.querySelector('#df-d76245ec-5b5c-47c7-a162-a949c7cdd86d button.colab-df-convert');\n",
              "        buttonEl.style.display =\n",
              "          google.colab.kernel.accessAllowed ? 'block' : 'none';\n",
              "\n",
              "        async function convertToInteractive(key) {\n",
              "          const element = document.querySelector('#df-d76245ec-5b5c-47c7-a162-a949c7cdd86d');\n",
              "          const dataTable =\n",
              "            await google.colab.kernel.invokeFunction('convertToInteractive',\n",
              "                                                     [key], {});\n",
              "          if (!dataTable) return;\n",
              "\n",
              "          const docLinkHtml = 'Like what you see? Visit the ' +\n",
              "            '<a target=\"_blank\" href=https://colab.research.google.com/notebooks/data_table.ipynb>data table notebook</a>'\n",
              "            + ' to learn more about interactive tables.';\n",
              "          element.innerHTML = '';\n",
              "          dataTable['output_type'] = 'display_data';\n",
              "          await google.colab.output.renderOutput(dataTable, element);\n",
              "          const docLink = document.createElement('div');\n",
              "          docLink.innerHTML = docLinkHtml;\n",
              "          element.appendChild(docLink);\n",
              "        }\n",
              "      </script>\n",
              "    </div>\n",
              "  </div>\n",
              "  "
            ]
          },
          "metadata": {},
          "execution_count": 178
        }
      ]
    },
    {
      "cell_type": "code",
      "source": [
        "dados_covid_dc.value_counts"
      ],
      "metadata": {
        "colab": {
          "base_uri": "https://localhost:8080/"
        },
        "id": "tYaIjrVOfMrC",
        "outputId": "ff26a7fa-6737-481d-f3ac-39f4a528051e"
      },
      "execution_count": null,
      "outputs": [
        {
          "output_type": "execute_result",
          "data": {
            "text/plain": [
              "<bound method DataFrame.value_counts of          idade  obito  diabetes  obesidade  outros_fatores_de_risco  Risco\n",
              "102638    33.0      1         1          2                        1      4\n",
              "150379    87.0      0         1          1                        1      3\n",
              "266102    40.0      0         1          1                        1      3\n",
              "374542    65.0      0         2          1                        1      4\n",
              "603014    64.0      0         1          1                        1      3\n",
              "675210    59.0      0         2          1                        1      4\n",
              "694968    72.0      1         1          1                        2      4\n",
              "700460    59.0      0         2          1                        1      4\n",
              "965798    50.0      1         2          2                        1      5\n",
              "1074902   52.0      0         1          1                        1      3\n",
              "1280829   45.0      0         1          2                        1      4\n",
              "1592414   52.0      1         2          2                        1      5\n",
              "1646704   49.0      0         1          1                        1      3\n",
              "1934082   71.0      1         2          1                        2      5\n",
              "2118112   62.0      0         2          1                        1      4\n",
              "2201932   64.0      1         2          1                        1      4\n",
              "2292845   32.0      0         1          1                        1      3\n",
              "2507981   81.0      0         2          1                        1      4\n",
              "2558406   63.0      0         1          1                        2      4\n",
              "2615022   75.0      1         2          1                        2      5\n",
              "2892029   64.0      0         1          1                        1      3\n",
              "2943212   33.0      0         1          1                        1      3\n",
              "3077153   75.0      1         2          1                        2      5\n",
              "3143257   56.0      1         2          1                        1      4\n",
              "3151139   72.0      1         2          1                        1      4\n",
              "3192233   68.0      1         2          1                        1      4\n",
              "3638225   58.0      0         1          1                        2      4\n",
              "3650343   55.0      0         2          2                        1      5\n",
              "3831873   74.0      0         1          2                        2      5\n",
              "3851378   75.0      1         2          1                        1      4\n",
              "4036925   29.0      0         1          2                        1      4\n",
              "4110677   56.0      1         1          1                        1      3\n",
              "4131555   65.0      1         2          2                        2      6\n",
              "4254634   56.0      0         2          1                        1      4\n",
              "4307511   60.0      0         2          1                        1      4\n",
              "4338079   60.0      1         2          2                        2      6\n",
              "4463643   30.0      1         1          1                        1      3\n",
              "4894661   47.0      1         1          1                        1      3\n",
              "4913553   71.0      0         1          1                        2      4\n",
              "5052841   70.0      0         2          1                        1      4\n",
              "5083766   86.0      1         1          1                        1      3\n",
              "5088302   44.0      1         1          1                        2      4\n",
              "5108865   52.0      0         1          1                        2      4\n",
              "5113165   79.0      1         1          1                        1      3\n",
              "5278945   46.0      0         1          1                        1      3\n",
              "5404518   59.0      1         1          1                        1      3\n",
              "5673099   72.0      0         2          1                        1      4\n",
              "5689549   86.0      0         2          1                        1      4\n",
              "6073095   38.0      0         1          1                        2      4\n",
              "6081323   33.0      1         1          2                        1      4\n",
              "6081388   28.0      0         1          1                        1      3\n",
              "6353431   53.0      0         2          1                        1      4\n",
              "6428549   52.0      0         1          1                        1      3>"
            ]
          },
          "metadata": {},
          "execution_count": 179
        }
      ]
    },
    {
      "cell_type": "code",
      "source": [
        "dados_covid_dc.drop('idade', axis=1, inplace=True)"
      ],
      "metadata": {
        "colab": {
          "base_uri": "https://localhost:8080/"
        },
        "id": "TcCgVCN-igkk",
        "outputId": "48125065-ce12-4da4-d088-396bd8474bda"
      },
      "execution_count": null,
      "outputs": [
        {
          "output_type": "stream",
          "name": "stderr",
          "text": [
            "<ipython-input-184-27f3d2d4fde2>:1: SettingWithCopyWarning: \n",
            "A value is trying to be set on a copy of a slice from a DataFrame\n",
            "\n",
            "See the caveats in the documentation: https://pandas.pydata.org/pandas-docs/stable/user_guide/indexing.html#returning-a-view-versus-a-copy\n",
            "  dados_covid_dc.drop('idade', axis=1, inplace=True)\n"
          ]
        }
      ]
    },
    {
      "cell_type": "code",
      "source": [
        "dados_covid_dc.plot(kind='hist')\n",
        "plt.show()"
      ],
      "metadata": {
        "colab": {
          "base_uri": "https://localhost:8080/",
          "height": 265
        },
        "id": "IlXrXe6VhZkm",
        "outputId": "232bd94c-b6a6-4056-d5b8-d055eb012f05"
      },
      "execution_count": null,
      "outputs": [
        {
          "output_type": "display_data",
          "data": {
            "text/plain": [
              "<Figure size 432x288 with 1 Axes>"
            ],
            "image/png": "[encoded data removed]"
          },
          "metadata": {
            "needs_background": "light"
          }
        }
      ]
    },
    {
      "cell_type": "code",
      "source": [
        "plt.figure(figsize=(10,10))\n",
        "plt.plot(dados_covid_dc.obito, label='o')\n",
        "plt.plot(dados_covid_dc.obesidade, label='r')\n",
        "plt.legend()\n",
        "plt.show()"
      ],
      "metadata": {
        "colab": {
          "base_uri": "https://localhost:8080/",
          "height": 605
        },
        "id": "_0icyCdElmXP",
        "outputId": "480ebfc5-acf5-413c-a7f3-c068f7ef61b4"
      },
      "execution_count": null,
      "outputs": [
        {
          "output_type": "display_data",
          "data": {
            "text/plain": [
              "<Figure size 720x720 with 1 Axes>"
            ],
            "image/png": "[encoded data removed]"
          },
          "metadata": {
            "needs_background": "light"
          }
        }
      ]
    },
    {
      "cell_type": "code",
      "source": [
        "plt.scatter(dados_covid_dc['obito'], dados_covid_dc['Risco'])\n",
        "plt.title('obito x risco')\n",
        "plt.xlabel('o')\n",
        "plt.ylabel('r')\n",
        "plt.show()"
      ],
      "metadata": {
        "colab": {
          "base_uri": "https://localhost:8080/",
          "height": 295
        },
        "id": "PFXJisienMmR",
        "outputId": "e869f1ca-8a81-4c92-cccd-b61f501c6576"
      },
      "execution_count": null,
      "outputs": [
        {
          "output_type": "display_data",
          "data": {
            "text/plain": [
              "<Figure size 432x288 with 1 Axes>"
            ],
            "image/png": "[encoded data removed]"
          },
          "metadata": {
            "needs_background": "light"
          }
        }
      ]
    },
    {
      "cell_type": "code",
      "source": [
        "#GRAFICO\n",
        "sns.pairplot(dados_covid_dc, hue = 'Risco')"
      ],
      "metadata": {
        "colab": {
          "base_uri": "https://localhost:8080/",
          "height": 921
        },
        "id": "K_5xYn5dnEu1",
        "outputId": "c2d8d50a-8ff3-4d5e-ac2f-eba8a4154bf2"
      },
      "execution_count": null,
      "outputs": [
        {
          "output_type": "execute_result",
          "data": {
            "text/plain": [
              "<seaborn.axisgrid.PairGrid at 0x7f795ec9c1c0>"
            ]
          },
          "metadata": {},
          "execution_count": 164
        },
        {
          "output_type": "display_data",
          "data": {
            "text/plain": [
              "<Figure size 942.375x900 with 30 Axes>"
            ],
            "image/png": "[encoded data removed]"
          },
          "metadata": {
            "needs_background": "light"
          }
        }
      ]
    },
    {
      "cell_type": "code",
      "source": [
        "#Normalização dos dados\n",
        "X = dados_covid_dc.drop(['Risco'], axis=1)\n",
        "# Normalização dos dados (Min-Max)\n",
        "normalizador = MinMaxScaler()\n",
        "X_norm = pd.DataFrame(normalizador.fit_transform(X), columns=X.columns)\n",
        "Risco = X = dados_covid_dc.drop(['Risco'], axis=1)\n",
        "dados_covid_dc.Risco.unique()\n",
        "print(Risco)\n",
        "#Transformação dos atributos (classes) categóricos em\n",
        "# numéricos (1-de-c / one-hot-encoding)\n",
        "# RISCO 3 -> 1  0  0  0\n",
        "# RISCO 4 -> 0  1  0  0\n",
        "# RISCO 5 -> 0  0  1  0\n",
        "# RISCO 6 -> 0  0  0  1\n",
        "# OBSERVA-SE QUE QUANTO MAIOR O RISCO, MAIS DOENÇAS ALÉM DA COVID A PESSOA DIAGNOSTICADA TEM\n",
        "Y = pd.get_dummies(dados_covid_dc.Risco)\n",
        "print(Y)\n"
      ],
      "metadata": {
        "colab": {
          "base_uri": "https://localhost:8080/"
        },
        "id": "4qf_EN-mCQMk",
        "outputId": "ad741147-8b70-4d5b-9de7-be53ecf85b34"
      },
      "execution_count": null,
      "outputs": [
        {
          "output_type": "stream",
          "name": "stdout",
          "text": [
            "         idade  obito  diabetes  obesidade  outros_fatores_de_risco\n",
            "102638    33.0      1         1          2                        1\n",
            "150379    87.0      0         1          1                        1\n",
            "266102    40.0      0         1          1                        1\n",
            "374542    65.0      0         2          1                        1\n",
            "603014    64.0      0         1          1                        1\n",
            "675210    59.0      0         2          1                        1\n",
            "694968    72.0      1         1          1                        2\n",
            "700460    59.0      0         2          1                        1\n",
            "965798    50.0      1         2          2                        1\n",
            "1074902   52.0      0         1          1                        1\n",
            "1280829   45.0      0         1          2                        1\n",
            "1592414   52.0      1         2          2                        1\n",
            "1646704   49.0      0         1          1                        1\n",
            "1934082   71.0      1         2          1                        2\n",
            "2118112   62.0      0         2          1                        1\n",
            "2201932   64.0      1         2          1                        1\n",
            "2292845   32.0      0         1          1                        1\n",
            "2507981   81.0      0         2          1                        1\n",
            "2558406   63.0      0         1          1                        2\n",
            "2615022   75.0      1         2          1                        2\n",
            "2892029   64.0      0         1          1                        1\n",
            "2943212   33.0      0         1          1                        1\n",
            "3077153   75.0      1         2          1                        2\n",
            "3143257   56.0      1         2          1                        1\n",
            "3151139   72.0      1         2          1                        1\n",
            "3192233   68.0      1         2          1                        1\n",
            "3638225   58.0      0         1          1                        2\n",
            "3650343   55.0      0         2          2                        1\n",
            "3831873   74.0      0         1          2                        2\n",
            "3851378   75.0      1         2          1                        1\n",
            "4036925   29.0      0         1          2                        1\n",
            "4110677   56.0      1         1          1                        1\n",
            "4131555   65.0      1         2          2                        2\n",
            "4254634   56.0      0         2          1                        1\n",
            "4307511   60.0      0         2          1                        1\n",
            "4338079   60.0      1         2          2                        2\n",
            "4463643   30.0      1         1          1                        1\n",
            "4894661   47.0      1         1          1                        1\n",
            "4913553   71.0      0         1          1                        2\n",
            "5052841   70.0      0         2          1                        1\n",
            "5083766   86.0      1         1          1                        1\n",
            "5088302   44.0      1         1          1                        2\n",
            "5108865   52.0      0         1          1                        2\n",
            "5113165   79.0      1         1          1                        1\n",
            "5278945   46.0      0         1          1                        1\n",
            "5404518   59.0      1         1          1                        1\n",
            "5673099   72.0      0         2          1                        1\n",
            "5689549   86.0      0         2          1                        1\n",
            "6073095   38.0      0         1          1                        2\n",
            "6081323   33.0      1         1          2                        1\n",
            "6081388   28.0      0         1          1                        1\n",
            "6353431   53.0      0         2          1                        1\n",
            "6428549   52.0      0         1          1                        1\n",
            "         3  4  5  6\n",
            "102638   0  1  0  0\n",
            "150379   1  0  0  0\n",
            "266102   1  0  0  0\n",
            "374542   0  1  0  0\n",
            "603014   1  0  0  0\n",
            "675210   0  1  0  0\n",
            "694968   0  1  0  0\n",
            "700460   0  1  0  0\n",
            "965798   0  0  1  0\n",
            "1074902  1  0  0  0\n",
            "1280829  0  1  0  0\n",
            "1592414  0  0  1  0\n",
            "1646704  1  0  0  0\n",
            "1934082  0  0  1  0\n",
            "2118112  0  1  0  0\n",
            "2201932  0  1  0  0\n",
            "2292845  1  0  0  0\n",
            "2507981  0  1  0  0\n",
            "2558406  0  1  0  0\n",
            "2615022  0  0  1  0\n",
            "2892029  1  0  0  0\n",
            "2943212  1  0  0  0\n",
            "3077153  0  0  1  0\n",
            "3143257  0  1  0  0\n",
            "3151139  0  1  0  0\n",
            "3192233  0  1  0  0\n",
            "3638225  0  1  0  0\n",
            "3650343  0  0  1  0\n",
            "3831873  0  0  1  0\n",
            "3851378  0  1  0  0\n",
            "4036925  0  1  0  0\n",
            "4110677  1  0  0  0\n",
            "4131555  0  0  0  1\n",
            "4254634  0  1  0  0\n",
            "4307511  0  1  0  0\n",
            "4338079  0  0  0  1\n",
            "4463643  1  0  0  0\n",
            "4894661  1  0  0  0\n",
            "4913553  0  1  0  0\n",
            "5052841  0  1  0  0\n",
            "5083766  1  0  0  0\n",
            "5088302  0  1  0  0\n",
            "5108865  0  1  0  0\n",
            "5113165  1  0  0  0\n",
            "5278945  1  0  0  0\n",
            "5404518  1  0  0  0\n",
            "5673099  0  1  0  0\n",
            "5689549  0  1  0  0\n",
            "6073095  0  1  0  0\n",
            "6081323  0  1  0  0\n",
            "6081388  1  0  0  0\n",
            "6353431  0  1  0  0\n",
            "6428549  1  0  0  0\n"
          ]
        }
      ]
    },
    {
      "cell_type": "code",
      "source": [
        "# Separação desenvolvimento (90) e teste (10)\n",
        "X_dev, X_test, Y_dev, Y_test = train_test_split(X_norm, Y, test_size=0.1, random_state=1)\n",
        "# Separação treino (80) e validação (20)\n",
        "X_train, X_val, Y_train, Y_val = train_test_split(X_dev, Y_dev, test_size=0.2, random_state=1)\n",
        "print(X_train.shape)\n",
        "print(X_val.shape)\n",
        "print(X_test.shape)"
      ],
      "metadata": {
        "colab": {
          "base_uri": "https://localhost:8080/"
        },
        "id": "2XN3S66VCtQQ",
        "outputId": "d19e0206-86c6-4e9c-fc14-051e6573ccca"
      },
      "execution_count": null,
      "outputs": [
        {
          "output_type": "stream",
          "name": "stdout",
          "text": [
            "(37, 5)\n",
            "(10, 5)\n",
            "(6, 5)\n"
          ]
        }
      ]
    },
    {
      "cell_type": "code",
      "source": [
        "class MLP(nn.Module):\n",
        "    def __init__(self,input_dim,output_dim):\n",
        "        super(MLP,self).__init__()\n",
        "        self.rede = nn.Sequential(\n",
        "            nn.Linear(input_dim,10),\n",
        "            nn.Tanh(),\n",
        "            nn.Linear(10,output_dim),\n",
        "            nn.Sigmoid(),\n",
        "        )\n",
        "    def forward(self,x):\n",
        "        out =  self.rede(x)\n",
        "        return out"
      ],
      "metadata": {
        "id": "t9Eh-uPkCw1j"
      },
      "execution_count": null,
      "outputs": []
    },
    {
      "cell_type": "code",
      "source": [
        "input_dim  = 5 # número de atributos\n",
        "output_dim = 4 # número de classes\n",
        "\n",
        "modelo = MLP(input_dim,output_dim) # Criação do modelo (rede)"
      ],
      "metadata": {
        "id": "NyN9RMexC4KG"
      },
      "execution_count": null,
      "outputs": []
    },
    {
      "cell_type": "code",
      "source": [
        "eta = 0.2\n",
        "loss_function = nn.MSELoss()\n",
        "optimizer = torch.optim.SGD(modelo.parameters(),lr=eta)"
      ],
      "metadata": {
        "id": "RMZ3ALMPC6wT"
      },
      "execution_count": null,
      "outputs": []
    },
    {
      "cell_type": "code",
      "source": [
        "x_train = torch.FloatTensor(X_train.values)\n",
        "y_train = torch.FloatTensor(Y_train.values)\n",
        "x_val = torch.FloatTensor(X_val.values)\n",
        "y_val = torch.FloatTensor(Y_val.values)\n",
        "x_test = torch.FloatTensor(X_test.values)\n",
        "y_test = torch.FloatTensor(Y_test.values)\n",
        "# verificando disponibilidade da gpu\n",
        "device = torch.device('cuda' if torch.cuda.is_available() else 'cpu')\n",
        "device"
      ],
      "metadata": {
        "colab": {
          "base_uri": "https://localhost:8080/"
        },
        "id": "BLM5Iq78C_Ed",
        "outputId": "68831536-854e-4f6f-dee4-d6f4d5e7db2a"
      },
      "execution_count": null,
      "outputs": [
        {
          "output_type": "execute_result",
          "data": {
            "text/plain": [
              "device(type='cpu')"
            ]
          },
          "metadata": {},
          "execution_count": 170
        }
      ]
    },
    {
      "cell_type": "code",
      "source": [
        "def train_network(model,optimizer,loss_function,x_train,y_train,x_val,y_val,num_epochs,train_losses,val_losses):\n",
        "    for epoch in range(num_epochs):\n",
        "        # zerando os gradientes da época anterior\n",
        "        optimizer.zero_grad()\n",
        "\n",
        "        # fase de propagação\n",
        "        output_train = model(x_train)\n",
        "\n",
        "        # cálculo do erro (função de custo - loss function)\n",
        "        loss_train = loss_function(output_train, y_train)\n",
        "\n",
        "        # fase de retroprogação\n",
        "        loss_train.backward()\n",
        "\n",
        "        # atualização dos pesos da rede\n",
        "        optimizer.step()\n",
        "\n",
        "        # avaliando o modelo com o conjunto de validação\n",
        "        output_val = model(x_val)\n",
        "        loss_val = loss_function(output_val,y_val)\n",
        "\n",
        "        train_losses[epoch] = loss_train.item()\n",
        "        val_losses[epoch] = loss_val.item()\n",
        "\n",
        "        if (epoch + 1) % 100 == 0:\n",
        "            print(f\"Epoch {epoch+1}/{num_epochs}, Erro Treino: {loss_train.item():.4f},  Erro Validação: {loss_val.item():.3f}\")"
      ],
      "metadata": {
        "id": "G_U2h2SIDDHK"
      },
      "execution_count": null,
      "outputs": []
    },
    {
      "cell_type": "code",
      "source": [
        "num_epochs = 20000\n",
        "train_losses = np.zeros(num_epochs)\n",
        "val_losses  = np.zeros(num_epochs)\n",
        "\n",
        "train_network(modelo,optimizer,loss_function,x_train,y_train,x_val,y_val,num_epochs,train_losses,val_losses)"
      ],
      "metadata": {
        "colab": {
          "base_uri": "https://localhost:8080/"
        },
        "id": "CyKpPrCmDMMI",
        "outputId": "b7cf9de3-d1c3-4dff-9f97-2dabfcf847a5"
      },
      "execution_count": null,
      "outputs": [
        {
          "output_type": "stream",
          "name": "stdout",
          "text": [
            "Epoch 100/20000, Erro Treino: 0.1524,  Erro Validação: 0.157\n",
            "Epoch 200/20000, Erro Treino: 0.1415,  Erro Validação: 0.151\n",
            "Epoch 300/20000, Erro Treino: 0.1323,  Erro Validação: 0.142\n",
            "Epoch 400/20000, Erro Treino: 0.1214,  Erro Validação: 0.129\n",
            "Epoch 500/20000, Erro Treino: 0.1097,  Erro Validação: 0.114\n",
            "Epoch 600/20000, Erro Treino: 0.0986,  Erro Validação: 0.099\n",
            "Epoch 700/20000, Erro Treino: 0.0887,  Erro Validação: 0.085\n",
            "Epoch 800/20000, Erro Treino: 0.0804,  Erro Validação: 0.074\n",
            "Epoch 900/20000, Erro Treino: 0.0734,  Erro Validação: 0.065\n",
            "Epoch 1000/20000, Erro Treino: 0.0673,  Erro Validação: 0.059\n",
            "Epoch 1100/20000, Erro Treino: 0.0618,  Erro Validação: 0.054\n",
            "Epoch 1200/20000, Erro Treino: 0.0568,  Erro Validação: 0.050\n",
            "Epoch 1300/20000, Erro Treino: 0.0523,  Erro Validação: 0.046\n",
            "Epoch 1400/20000, Erro Treino: 0.0480,  Erro Validação: 0.043\n",
            "Epoch 1500/20000, Erro Treino: 0.0441,  Erro Validação: 0.040\n",
            "Epoch 1600/20000, Erro Treino: 0.0405,  Erro Validação: 0.037\n",
            "Epoch 1700/20000, Erro Treino: 0.0373,  Erro Validação: 0.034\n",
            "Epoch 1800/20000, Erro Treino: 0.0344,  Erro Validação: 0.032\n",
            "Epoch 1900/20000, Erro Treino: 0.0318,  Erro Validação: 0.029\n",
            "Epoch 2000/20000, Erro Treino: 0.0295,  Erro Validação: 0.027\n",
            "Epoch 2100/20000, Erro Treino: 0.0274,  Erro Validação: 0.025\n",
            "Epoch 2200/20000, Erro Treino: 0.0256,  Erro Validação: 0.023\n",
            "Epoch 2300/20000, Erro Treino: 0.0240,  Erro Validação: 0.021\n",
            "Epoch 2400/20000, Erro Treino: 0.0226,  Erro Validação: 0.020\n",
            "Epoch 2500/20000, Erro Treino: 0.0214,  Erro Validação: 0.018\n",
            "Epoch 2600/20000, Erro Treino: 0.0203,  Erro Validação: 0.017\n",
            "Epoch 2700/20000, Erro Treino: 0.0193,  Erro Validação: 0.016\n",
            "Epoch 2800/20000, Erro Treino: 0.0185,  Erro Validação: 0.015\n",
            "Epoch 2900/20000, Erro Treino: 0.0177,  Erro Validação: 0.014\n",
            "Epoch 3000/20000, Erro Treino: 0.0170,  Erro Validação: 0.013\n",
            "Epoch 3100/20000, Erro Treino: 0.0164,  Erro Validação: 0.012\n",
            "Epoch 3200/20000, Erro Treino: 0.0158,  Erro Validação: 0.012\n",
            "Epoch 3300/20000, Erro Treino: 0.0153,  Erro Validação: 0.011\n",
            "Epoch 3400/20000, Erro Treino: 0.0149,  Erro Validação: 0.010\n",
            "Epoch 3500/20000, Erro Treino: 0.0145,  Erro Validação: 0.010\n",
            "Epoch 3600/20000, Erro Treino: 0.0141,  Erro Validação: 0.009\n",
            "Epoch 3700/20000, Erro Treino: 0.0137,  Erro Validação: 0.009\n",
            "Epoch 3800/20000, Erro Treino: 0.0134,  Erro Validação: 0.009\n",
            "Epoch 3900/20000, Erro Treino: 0.0131,  Erro Validação: 0.008\n",
            "Epoch 4000/20000, Erro Treino: 0.0128,  Erro Validação: 0.008\n",
            "Epoch 4100/20000, Erro Treino: 0.0126,  Erro Validação: 0.007\n",
            "Epoch 4200/20000, Erro Treino: 0.0124,  Erro Validação: 0.007\n",
            "Epoch 4300/20000, Erro Treino: 0.0121,  Erro Validação: 0.007\n",
            "Epoch 4400/20000, Erro Treino: 0.0119,  Erro Validação: 0.007\n",
            "Epoch 4500/20000, Erro Treino: 0.0117,  Erro Validação: 0.006\n",
            "Epoch 4600/20000, Erro Treino: 0.0116,  Erro Validação: 0.006\n",
            "Epoch 4700/20000, Erro Treino: 0.0114,  Erro Validação: 0.006\n",
            "Epoch 4800/20000, Erro Treino: 0.0112,  Erro Validação: 0.006\n",
            "Epoch 4900/20000, Erro Treino: 0.0111,  Erro Validação: 0.005\n",
            "Epoch 5000/20000, Erro Treino: 0.0109,  Erro Validação: 0.005\n",
            "Epoch 5100/20000, Erro Treino: 0.0108,  Erro Validação: 0.005\n",
            "Epoch 5200/20000, Erro Treino: 0.0107,  Erro Validação: 0.005\n",
            "Epoch 5300/20000, Erro Treino: 0.0106,  Erro Validação: 0.005\n",
            "Epoch 5400/20000, Erro Treino: 0.0105,  Erro Validação: 0.005\n",
            "Epoch 5500/20000, Erro Treino: 0.0103,  Erro Validação: 0.005\n",
            "Epoch 5600/20000, Erro Treino: 0.0102,  Erro Validação: 0.004\n",
            "Epoch 5700/20000, Erro Treino: 0.0101,  Erro Validação: 0.004\n",
            "Epoch 5800/20000, Erro Treino: 0.0101,  Erro Validação: 0.004\n",
            "Epoch 5900/20000, Erro Treino: 0.0100,  Erro Validação: 0.004\n",
            "Epoch 6000/20000, Erro Treino: 0.0099,  Erro Validação: 0.004\n",
            "Epoch 6100/20000, Erro Treino: 0.0098,  Erro Validação: 0.004\n",
            "Epoch 6200/20000, Erro Treino: 0.0097,  Erro Validação: 0.004\n",
            "Epoch 6300/20000, Erro Treino: 0.0096,  Erro Validação: 0.004\n",
            "Epoch 6400/20000, Erro Treino: 0.0096,  Erro Validação: 0.004\n",
            "Epoch 6500/20000, Erro Treino: 0.0095,  Erro Validação: 0.003\n",
            "Epoch 6600/20000, Erro Treino: 0.0094,  Erro Validação: 0.003\n",
            "Epoch 6700/20000, Erro Treino: 0.0094,  Erro Validação: 0.003\n",
            "Epoch 6800/20000, Erro Treino: 0.0093,  Erro Validação: 0.003\n",
            "Epoch 6900/20000, Erro Treino: 0.0093,  Erro Validação: 0.003\n",
            "Epoch 7000/20000, Erro Treino: 0.0092,  Erro Validação: 0.003\n",
            "Epoch 7100/20000, Erro Treino: 0.0092,  Erro Validação: 0.003\n",
            "Epoch 7200/20000, Erro Treino: 0.0091,  Erro Validação: 0.003\n",
            "Epoch 7300/20000, Erro Treino: 0.0091,  Erro Validação: 0.003\n",
            "Epoch 7400/20000, Erro Treino: 0.0090,  Erro Validação: 0.003\n",
            "Epoch 7500/20000, Erro Treino: 0.0090,  Erro Validação: 0.003\n",
            "Epoch 7600/20000, Erro Treino: 0.0089,  Erro Validação: 0.003\n",
            "Epoch 7700/20000, Erro Treino: 0.0089,  Erro Validação: 0.003\n",
            "Epoch 7800/20000, Erro Treino: 0.0088,  Erro Validação: 0.003\n",
            "Epoch 7900/20000, Erro Treino: 0.0088,  Erro Validação: 0.003\n",
            "Epoch 8000/20000, Erro Treino: 0.0088,  Erro Validação: 0.003\n",
            "Epoch 8100/20000, Erro Treino: 0.0087,  Erro Validação: 0.003\n",
            "Epoch 8200/20000, Erro Treino: 0.0087,  Erro Validação: 0.002\n",
            "Epoch 8300/20000, Erro Treino: 0.0086,  Erro Validação: 0.002\n",
            "Epoch 8400/20000, Erro Treino: 0.0086,  Erro Validação: 0.002\n",
            "Epoch 8500/20000, Erro Treino: 0.0086,  Erro Validação: 0.002\n",
            "Epoch 8600/20000, Erro Treino: 0.0085,  Erro Validação: 0.002\n",
            "Epoch 8700/20000, Erro Treino: 0.0085,  Erro Validação: 0.002\n",
            "Epoch 8800/20000, Erro Treino: 0.0085,  Erro Validação: 0.002\n",
            "Epoch 8900/20000, Erro Treino: 0.0085,  Erro Validação: 0.002\n",
            "Epoch 9000/20000, Erro Treino: 0.0084,  Erro Validação: 0.002\n",
            "Epoch 9100/20000, Erro Treino: 0.0084,  Erro Validação: 0.002\n",
            "Epoch 9200/20000, Erro Treino: 0.0084,  Erro Validação: 0.002\n",
            "Epoch 9300/20000, Erro Treino: 0.0083,  Erro Validação: 0.002\n",
            "Epoch 9400/20000, Erro Treino: 0.0083,  Erro Validação: 0.002\n",
            "Epoch 9500/20000, Erro Treino: 0.0083,  Erro Validação: 0.002\n",
            "Epoch 9600/20000, Erro Treino: 0.0083,  Erro Validação: 0.002\n",
            "Epoch 9700/20000, Erro Treino: 0.0083,  Erro Validação: 0.002\n",
            "Epoch 9800/20000, Erro Treino: 0.0082,  Erro Validação: 0.002\n",
            "Epoch 9900/20000, Erro Treino: 0.0082,  Erro Validação: 0.002\n",
            "Epoch 10000/20000, Erro Treino: 0.0082,  Erro Validação: 0.002\n",
            "Epoch 10100/20000, Erro Treino: 0.0082,  Erro Validação: 0.002\n",
            "Epoch 10200/20000, Erro Treino: 0.0081,  Erro Validação: 0.002\n",
            "Epoch 10300/20000, Erro Treino: 0.0081,  Erro Validação: 0.002\n",
            "Epoch 10400/20000, Erro Treino: 0.0081,  Erro Validação: 0.002\n",
            "Epoch 10500/20000, Erro Treino: 0.0081,  Erro Validação: 0.002\n",
            "Epoch 10600/20000, Erro Treino: 0.0081,  Erro Validação: 0.002\n",
            "Epoch 10700/20000, Erro Treino: 0.0081,  Erro Validação: 0.002\n",
            "Epoch 10800/20000, Erro Treino: 0.0080,  Erro Validação: 0.002\n",
            "Epoch 10900/20000, Erro Treino: 0.0080,  Erro Validação: 0.002\n",
            "Epoch 11000/20000, Erro Treino: 0.0080,  Erro Validação: 0.002\n",
            "Epoch 11100/20000, Erro Treino: 0.0080,  Erro Validação: 0.002\n",
            "Epoch 11200/20000, Erro Treino: 0.0080,  Erro Validação: 0.002\n",
            "Epoch 11300/20000, Erro Treino: 0.0080,  Erro Validação: 0.002\n",
            "Epoch 11400/20000, Erro Treino: 0.0079,  Erro Validação: 0.002\n",
            "Epoch 11500/20000, Erro Treino: 0.0079,  Erro Validação: 0.002\n",
            "Epoch 11600/20000, Erro Treino: 0.0079,  Erro Validação: 0.002\n",
            "Epoch 11700/20000, Erro Treino: 0.0079,  Erro Validação: 0.001\n",
            "Epoch 11800/20000, Erro Treino: 0.0079,  Erro Validação: 0.001\n",
            "Epoch 11900/20000, Erro Treino: 0.0079,  Erro Validação: 0.001\n",
            "Epoch 12000/20000, Erro Treino: 0.0079,  Erro Validação: 0.001\n",
            "Epoch 12100/20000, Erro Treino: 0.0078,  Erro Validação: 0.001\n",
            "Epoch 12200/20000, Erro Treino: 0.0078,  Erro Validação: 0.001\n",
            "Epoch 12300/20000, Erro Treino: 0.0078,  Erro Validação: 0.001\n",
            "Epoch 12400/20000, Erro Treino: 0.0078,  Erro Validação: 0.001\n",
            "Epoch 12500/20000, Erro Treino: 0.0078,  Erro Validação: 0.001\n",
            "Epoch 12600/20000, Erro Treino: 0.0078,  Erro Validação: 0.001\n",
            "Epoch 12700/20000, Erro Treino: 0.0078,  Erro Validação: 0.001\n",
            "Epoch 12800/20000, Erro Treino: 0.0078,  Erro Validação: 0.001\n",
            "Epoch 12900/20000, Erro Treino: 0.0077,  Erro Validação: 0.001\n",
            "Epoch 13000/20000, Erro Treino: 0.0077,  Erro Validação: 0.001\n",
            "Epoch 13100/20000, Erro Treino: 0.0077,  Erro Validação: 0.001\n",
            "Epoch 13200/20000, Erro Treino: 0.0077,  Erro Validação: 0.001\n",
            "Epoch 13300/20000, Erro Treino: 0.0077,  Erro Validação: 0.001\n",
            "Epoch 13400/20000, Erro Treino: 0.0077,  Erro Validação: 0.001\n",
            "Epoch 13500/20000, Erro Treino: 0.0077,  Erro Validação: 0.001\n",
            "Epoch 13600/20000, Erro Treino: 0.0077,  Erro Validação: 0.001\n",
            "Epoch 13700/20000, Erro Treino: 0.0077,  Erro Validação: 0.001\n",
            "Epoch 13800/20000, Erro Treino: 0.0077,  Erro Validação: 0.001\n",
            "Epoch 13900/20000, Erro Treino: 0.0076,  Erro Validação: 0.001\n",
            "Epoch 14000/20000, Erro Treino: 0.0076,  Erro Validação: 0.001\n",
            "Epoch 14100/20000, Erro Treino: 0.0076,  Erro Validação: 0.001\n",
            "Epoch 14200/20000, Erro Treino: 0.0076,  Erro Validação: 0.001\n",
            "Epoch 14300/20000, Erro Treino: 0.0076,  Erro Validação: 0.001\n",
            "Epoch 14400/20000, Erro Treino: 0.0076,  Erro Validação: 0.001\n",
            "Epoch 14500/20000, Erro Treino: 0.0076,  Erro Validação: 0.001\n",
            "Epoch 14600/20000, Erro Treino: 0.0076,  Erro Validação: 0.001\n",
            "Epoch 14700/20000, Erro Treino: 0.0076,  Erro Validação: 0.001\n",
            "Epoch 14800/20000, Erro Treino: 0.0076,  Erro Validação: 0.001\n",
            "Epoch 14900/20000, Erro Treino: 0.0076,  Erro Validação: 0.001\n",
            "Epoch 15000/20000, Erro Treino: 0.0076,  Erro Validação: 0.001\n",
            "Epoch 15100/20000, Erro Treino: 0.0075,  Erro Validação: 0.001\n",
            "Epoch 15200/20000, Erro Treino: 0.0075,  Erro Validação: 0.001\n",
            "Epoch 15300/20000, Erro Treino: 0.0075,  Erro Validação: 0.001\n",
            "Epoch 15400/20000, Erro Treino: 0.0075,  Erro Validação: 0.001\n",
            "Epoch 15500/20000, Erro Treino: 0.0075,  Erro Validação: 0.001\n",
            "Epoch 15600/20000, Erro Treino: 0.0075,  Erro Validação: 0.001\n",
            "Epoch 15700/20000, Erro Treino: 0.0075,  Erro Validação: 0.001\n",
            "Epoch 15800/20000, Erro Treino: 0.0075,  Erro Validação: 0.001\n",
            "Epoch 15900/20000, Erro Treino: 0.0075,  Erro Validação: 0.001\n",
            "Epoch 16000/20000, Erro Treino: 0.0075,  Erro Validação: 0.001\n",
            "Epoch 16100/20000, Erro Treino: 0.0075,  Erro Validação: 0.001\n",
            "Epoch 16200/20000, Erro Treino: 0.0075,  Erro Validação: 0.001\n",
            "Epoch 16300/20000, Erro Treino: 0.0075,  Erro Validação: 0.001\n",
            "Epoch 16400/20000, Erro Treino: 0.0075,  Erro Validação: 0.001\n",
            "Epoch 16500/20000, Erro Treino: 0.0075,  Erro Validação: 0.001\n",
            "Epoch 16600/20000, Erro Treino: 0.0075,  Erro Validação: 0.001\n",
            "Epoch 16700/20000, Erro Treino: 0.0074,  Erro Validação: 0.001\n",
            "Epoch 16800/20000, Erro Treino: 0.0074,  Erro Validação: 0.001\n",
            "Epoch 16900/20000, Erro Treino: 0.0074,  Erro Validação: 0.001\n",
            "Epoch 17000/20000, Erro Treino: 0.0074,  Erro Validação: 0.001\n",
            "Epoch 17100/20000, Erro Treino: 0.0074,  Erro Validação: 0.001\n",
            "Epoch 17200/20000, Erro Treino: 0.0074,  Erro Validação: 0.001\n",
            "Epoch 17300/20000, Erro Treino: 0.0074,  Erro Validação: 0.001\n",
            "Epoch 17400/20000, Erro Treino: 0.0074,  Erro Validação: 0.001\n",
            "Epoch 17500/20000, Erro Treino: 0.0074,  Erro Validação: 0.001\n",
            "Epoch 17600/20000, Erro Treino: 0.0074,  Erro Validação: 0.001\n",
            "Epoch 17700/20000, Erro Treino: 0.0074,  Erro Validação: 0.001\n",
            "Epoch 17800/20000, Erro Treino: 0.0074,  Erro Validação: 0.001\n",
            "Epoch 17900/20000, Erro Treino: 0.0074,  Erro Validação: 0.001\n",
            "Epoch 18000/20000, Erro Treino: 0.0074,  Erro Validação: 0.001\n",
            "Epoch 18100/20000, Erro Treino: 0.0074,  Erro Validação: 0.001\n",
            "Epoch 18200/20000, Erro Treino: 0.0074,  Erro Validação: 0.001\n",
            "Epoch 18300/20000, Erro Treino: 0.0074,  Erro Validação: 0.001\n",
            "Epoch 18400/20000, Erro Treino: 0.0074,  Erro Validação: 0.001\n",
            "Epoch 18500/20000, Erro Treino: 0.0074,  Erro Validação: 0.001\n",
            "Epoch 18600/20000, Erro Treino: 0.0074,  Erro Validação: 0.001\n",
            "Epoch 18700/20000, Erro Treino: 0.0073,  Erro Validação: 0.001\n",
            "Epoch 18800/20000, Erro Treino: 0.0073,  Erro Validação: 0.001\n",
            "Epoch 18900/20000, Erro Treino: 0.0073,  Erro Validação: 0.001\n",
            "Epoch 19000/20000, Erro Treino: 0.0073,  Erro Validação: 0.001\n",
            "Epoch 19100/20000, Erro Treino: 0.0073,  Erro Validação: 0.001\n",
            "Epoch 19200/20000, Erro Treino: 0.0073,  Erro Validação: 0.001\n",
            "Epoch 19300/20000, Erro Treino: 0.0073,  Erro Validação: 0.001\n",
            "Epoch 19400/20000, Erro Treino: 0.0073,  Erro Validação: 0.001\n",
            "Epoch 19500/20000, Erro Treino: 0.0073,  Erro Validação: 0.001\n",
            "Epoch 19600/20000, Erro Treino: 0.0073,  Erro Validação: 0.001\n",
            "Epoch 19700/20000, Erro Treino: 0.0073,  Erro Validação: 0.001\n",
            "Epoch 19800/20000, Erro Treino: 0.0073,  Erro Validação: 0.001\n",
            "Epoch 19900/20000, Erro Treino: 0.0073,  Erro Validação: 0.001\n",
            "Epoch 20000/20000, Erro Treino: 0.0073,  Erro Validação: 0.001\n"
          ]
        }
      ]
    },
    {
      "cell_type": "code",
      "source": [
        "# GRAFICO TREINAMENTO X VALIDAÇÃO\n",
        "plt.figure(figsize=(10,10))\n",
        "plt.plot(train_losses, label='Erro de Treino')\n",
        "plt.plot(val_losses, label='Erro de Validação')\n",
        "plt.legend()\n",
        "plt.show()"
      ],
      "metadata": {
        "colab": {
          "base_uri": "https://localhost:8080/",
          "height": 592
        },
        "id": "-8CPg7TpDSq4",
        "outputId": "37e974e5-7e2d-4027-e69d-b47ea529ef66"
      },
      "execution_count": null,
      "outputs": [
        {
          "output_type": "display_data",
          "data": {
            "text/plain": [
              "<Figure size 720x720 with 1 Axes>"
            ],
            "image/png": "[encoded data removed]"
          },
          "metadata": {
            "needs_background": "light"
          }
        }
      ]
    },
    {
      "cell_type": "code",
      "source": [
        "# Cálculo do erro (Função de Custo)\n",
        "predictions_train = []\n",
        "predictions_val = []\n",
        "predictions_test =  []\n",
        "with torch.no_grad():\n",
        "    predictions_train = modelo(x_train)\n",
        "    predictions_val = modelo(x_val)\n",
        "    predictions_test = modelo(x_test)\n",
        "\n",
        "erro_train = loss_function(predictions_train,y_train)\n",
        "erro_val = loss_function(predictions_val,y_val)\n",
        "erro_test = loss_function(predictions_test,y_test)\n",
        "\n",
        "print(f\"Erro de Treino: {erro_train}\")\n",
        "print(f\"Erro de Validação: {erro_val}\")\n",
        "print(f\"Erro de Teste: {erro_test}\")"
      ],
      "metadata": {
        "colab": {
          "base_uri": "https://localhost:8080/"
        },
        "id": "rzpQMJWdDcvy",
        "outputId": "6f7fdde6-5de0-446a-a16d-346d7edbe1d1"
      },
      "execution_count": null,
      "outputs": [
        {
          "output_type": "stream",
          "name": "stdout",
          "text": [
            "Erro de Treino: 0.007298091892153025\n",
            "Erro de Validação: 0.000737207243219018\n",
            "Erro de Teste: 0.04259546473622322\n"
          ]
        }
      ]
    },
    {
      "cell_type": "code",
      "source": [
        "# Cálculo da Acurácia de Classificação:\n",
        "\n",
        "pred_train = torch.argmax(predictions_train, dim=1)\n",
        "label_train = torch.argmax(y_train, dim=1)\n",
        "pred_val = torch.argmax(predictions_val, dim=1)\n",
        "label_val = torch.argmax(y_val, dim=1)\n",
        "pred_test = torch.argmax(predictions_test, dim=1)\n",
        "label_test = torch.argmax(y_test, dim=1)\n",
        "\n",
        "from sklearn.metrics import accuracy_score\n",
        "acc_train = accuracy_score(label_train, pred_train)\n",
        "acc_val = accuracy_score(label_val, pred_val)\n",
        "acc_test = accuracy_score(label_test, pred_test)\n",
        "\n",
        "\n",
        "print(f\"Acurácia de Treino: {acc_train*100:.2f}%\")\n",
        "print(f\"Acurácia de Validação: {acc_val*100:.2f}%\")\n",
        "print(f\"Acurácia de Teste: {acc_test*100:.2f}%\")\n"
      ],
      "metadata": {
        "colab": {
          "base_uri": "https://localhost:8080/"
        },
        "id": "VjgGyyF7SJpe",
        "outputId": "dcd1c019-ca93-4e2d-d6ca-b3a4266be393"
      },
      "execution_count": null,
      "outputs": [
        {
          "output_type": "stream",
          "name": "stdout",
          "text": [
            "Acurácia de Treino: 97.30%\n",
            "Acurácia de Validação: 100.00%\n",
            "Acurácia de Teste: 83.33%\n"
          ]
        }
      ]
    },
    {
      "cell_type": "code",
      "source": [],
      "metadata": {
        "id": "z2H_85EiTfkd"
      },
      "execution_count": null,
      "outputs": []
    }
  ]
}